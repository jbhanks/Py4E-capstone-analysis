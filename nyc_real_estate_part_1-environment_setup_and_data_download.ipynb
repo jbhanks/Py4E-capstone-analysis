{
 "cells": [
  {
   "cell_type": "markdown",
   "metadata": {},
   "source": [
    "# **<center>Introduction</center>**\n",
    "***\n",
    "\n",
    "This notebook is an analysis and data visualization for the class \"Python for Everybody\" taught by Dr. Charles Severence (AKA \"Dr. Chuck\") at the University of Michigan, presented on Coursera. The assignment was to select an open dataset and do some sort of basic analysis and visualization in order to show that we have mastered the basic concepts taught in the course, such as web scraping, data cleaning, databases, and generation of plots. \n",
    "\n",
    "From the provided list of open data sources, I went to [data.gov](https://data.gov/) and searched for datasets pertaining to New York City, my hometown. That led me to **[NYC OpenData](https://opendata.cityofnewyork.us/)**, where I got the datasets used here. After browsing the available datasets, I decided to go with real estate, as there are several large datasets pertaining to that topic that caught my eye, and I picked these for my analysis.\n",
    "\n",
    "My hope is that I will design this analysis in a generic enough way that I can use large parts of its code in analyses of other NYC OpenData datasets."
   ]
  },
  {
   "cell_type": "markdown",
   "metadata": {},
   "source": [
    "# **<center>Environment setup</center>**\n",
    "***\n",
    "- ### Import libraries"
   ]
  },
  {
   "cell_type": "code",
   "execution_count": 4,
   "metadata": {},
   "outputs": [],
   "source": [
    "# Import standard libraries\n",
    "import os\n",
    "import re\n",
    "import json\n",
    "import dataclasses\n",
    "import codecs\n",
    "import requests\n",
    "from urllib.request import urlopen\n",
    "import datetime\n",
    "\n",
    "\n",
    "# Import third-party libraries\n",
    "import geopandas as gpd\n",
    "from geoalchemy2 import Geometry\n",
    "import pandas as pd\n",
    "import numpy as np\n",
    "import pyogrio\n",
    "import sqlalchemy\n",
    "from sqlalchemy import create_engine, Column, Integer, Float, String, Date, MetaData, event, Table, text, LargeBinary, ForeignKey\n",
    "from sqlalchemy.dialects.sqlite import insert\n",
    "from sqlalchemy.orm import sessionmaker, declarative_base\n",
    "from sqlalchemy.sql.sqltypes import Boolean\n",
    "from sqlalchemy.event import listen\n",
    "from sqlalchemy.engine import Engine\n",
    "# from sqlalchemy.ext.declarative import declarative_base\n",
    "\n",
    "import sqlite3\n",
    "import fiona\n",
    "from fiona.crs import from_epsg\n",
    "\n",
    "# Import custom helper functions\n",
    "# import helperz\n",
    "# from helperz import *\n"
   ]
  },
  {
   "cell_type": "markdown",
   "metadata": {},
   "source": [
    "* ### Set paths for where to create the data folder where datasets will be downloaded and the sqliote database created"
   ]
  },
  {
   "cell_type": "code",
   "execution_count": null,
   "metadata": {},
   "outputs": [],
   "source": [
    "# Directory where the data folder for this analysis is to be created\n",
    "datadir = \"/home/james/Massive/PROJECTDATA\"\n",
    "\n",
    "# Name of the folder in which the project data is stored\n",
    "project_name = \"nyc_real_estate\""
   ]
  },
  {
   "cell_type": "markdown",
   "metadata": {},
   "source": [
    "* ### Set the names and paths of the datasets to be used. Here they are alraady set for the analysis I am doing, but the hope is to make it as adaptable to other datasets as possible. ####"
   ]
  },
  {
   "cell_type": "code",
   "execution_count": null,
   "metadata": {},
   "outputs": [],
   "source": [
    "# Define datasets to be downloaded and and processed\n",
    "datasets = {\n",
    "    \"MapPLUTO\": {\n",
    "        \"url\": \"https://s-media.nyc.gov/agencies/dcp/assets/files/zip/data-tools/bytes/nyc_mappluto_24v3_1_fgdb.zip\",\n",
    "        \"title\": \"NYC MapPLUTO 24v3.1\",\n",
    "        \"description\": \"Geographic data for tex lots\",\n",
    "        \"data_dictionary\": \"https://s-media.nyc.gov/agencies/dcp/assets/files/pdf/data-tools/bytes/pluto_datadictionary.pdf\",\n",
    "    },\n",
    "    \"property_valuation_and_assessment_data\": {\n",
    "        \"url\": \"https://data.cityofnewyork.us/City-Government/Property-Valuation-and-Assessment-Data/yjxr-fw8i/about_data\",\n",
    "        \"title\": \"Property Valuation and Assessment\",\n",
    "        \"description\": \"Property Valuation and Assessment Data\",\n",
    "        \"data_dictionary\": \"https://www1.nyc.gov/assets/finance/downloads/pdf/pdfs/2023/2023_property_tax_valuation_and_assessment_data.pdf\",\n",
    "    },\n",
    "}"
   ]
  },
  {
   "cell_type": "code",
   "execution_count": null,
   "metadata": {},
   "outputs": [],
   "source": [
    "@dataclasses.dataclass\n",
    "class Dataset:\n",
    "    \"\"\"Class to hold dataset metadata\"\"\"\n",
    "    id: str\n",
    "    main_url: str\n",
    "    data_url: str\n",
    "    data_dict_url: str\n",
    "    name: str\n",
    "    attribution: str\n",
    "    createdAt: str\n",
    "    description: str\n",
    "    provenance: str\n",
    "    publicationDate: str\n",
    "    rowsUpdatedAt: str\n"
   ]
  },
  {
   "cell_type": "code",
   "execution_count": null,
   "metadata": {},
   "outputs": [],
   "source": [
    "# dataset_names = [\"lien_data\", \"assessment_data\"]"
   ]
  },
  {
   "cell_type": "code",
   "execution_count": null,
   "metadata": {},
   "outputs": [],
   "source": [
    "# Define shared dataset configurations\n",
    "shared_dataset_configs = {\n",
    "    \"prefix\": PROJECTDATA,\n",
    "    \"cols_to_drop\": [\"id\", \"sid\", \"position\", \"created_at\", \"created_meta\", \"updated_at\", \"updated_meta\", \"borough\", \"meta\"],\n",
    "    \"cols_to_rename\": {},\n",
    "    \"dtype_exceptions\": {'zip_code': String},\n",
    "    \"lookup_columns\": [],\n",
    "    \"datatype_mappings\": {\"meta_data\": String, \"postcode\": String, \"calendar_date\": Date, \"number\": Integer, \"text\": String, \"point\": String}\n",
    "}\n",
    "\n",
    "# Define specific dataset configurations\n",
    "specific_dataset_configs = {\n",
    "    \"lien_data\": {\n",
    "        \"prefix\": f'{PROJECTDATA}/intermediate_files',\n",
    "        \"cols_to_drop\": [],\n",
    "        \"cols_to_rename\": {'BORO': 'borough'},\n",
    "        \"lookup_columns\": [],\n",
    "        \"dtype_exceptions\": {}\n",
    "    },\n",
    "    \"assessment_data\": {\n",
    "        \"prefix\": f'{PROJECTDATA}/intermediate_files',\n",
    "        \"cols_to_drop\": [],\n",
    "        \"cols_to_rename\": {\"BLDGCL\": \"building_class\", \"TAXCLASS\": \"tax_class_code\", \"Zip Codes\": \"zip_code\"},\n",
    "        \"lookup_columns\": [\"building_class\", \"street_name\", \"owner\", \"zip_code\"],\n",
    "        \"dtype_exceptions\": {}\n",
    "    }\n",
    "}"
   ]
  },
  {
   "cell_type": "markdown",
   "metadata": {},
   "source": [
    "* ### Construct more variables from the paths you set above."
   ]
  },
  {
   "cell_type": "code",
   "execution_count": 5,
   "metadata": {
    "tags": [
     "parameters"
    ]
   },
   "outputs": [],
   "source": [
    "project_path = os.getcwd()\n",
    "\n",
    "PROJECTDATA = f\"{datadir}/{project_name}_data\"\n",
    "sqlite_path = f'sqlite:///{PROJECTDATA}/{project_name}_db.sqlite'\n",
    "\n",
    "\n",
    "# Create necessary directories\n",
    "os.makedirs(PROJECTDATA, exist_ok=True)\n",
    "os.makedirs(f\"{PROJECTDATA}/Downloads\", exist_ok=True)\n",
    "os.makedirs(f\"{PROJECTDATA}/intermediate_files\", exist_ok=True)\n",
    "\n",
    "# Set environment variables\n",
    "os.environ[\"PROJECTDATA\"] = PROJECTDATA\n",
    "os.environ[\"project_name\"] = project_name\n",
    "os.chdir(project_path)\n"
   ]
  },
  {
   "cell_type": "code",
   "execution_count": null,
   "metadata": {},
   "outputs": [],
   "source": [
    "engine = create_engine(f'{sqlite_path}?check_same_thread=False', echo=False)\n",
    "\n",
    "SessionLocal = sessionmaker(bind=engine, autoflush=False, autocommit=False)"
   ]
  },
  {
   "cell_type": "code",
   "execution_count": null,
   "metadata": {},
   "outputs": [],
   "source": []
  }
 ],
 "metadata": {
  "kernelspec": {
   "display_name": "gpd_testing",
   "language": "python",
   "name": "python3"
  },
  "language_info": {
   "codemirror_mode": {
    "name": "ipython",
    "version": 3
   },
   "file_extension": ".py",
   "mimetype": "text/x-python",
   "name": "python",
   "nbconvert_exporter": "python",
   "pygments_lexer": "ipython3",
   "version": "3.13.1"
  }
 },
 "nbformat": 4,
 "nbformat_minor": 2
}
