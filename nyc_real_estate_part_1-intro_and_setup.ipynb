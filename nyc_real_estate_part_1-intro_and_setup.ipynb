{
 "cells": [
  {
   "cell_type": "markdown",
   "metadata": {},
   "source": [
    "# **<center>Introduction</center>**\n",
    "\n",
    "#### _This notebook prepares your environment for subsequent downloads and analysis. When set with the correct variables for your local system, running this notebook will create a script that loads shared packages and variables when imported into subsequent notebooks._\n",
    "\n",
    "### **<center>Assignment background</center>**\n",
    "\n",
    "---\n",
    "\n",
    "This series of notebooks is an analysis and data visualization for the class \"Python for Everybody\" taught by Dr. Charles Severence (AKA \"Dr. Chuck\") at the University of Michigan, presented on Coursera. The assignment was to select an open dataset and do some sort of basic analysis and visualization in order to show that we have mastered the basic concepts taught in the course, such as web scraping, data cleaning, databases, and generation of plots.\n",
    "\n",
    "From the provided list of open data sources, I went to [data.gov](https://data.gov/) and searched for datasets pertaining to New York City, my hometown. That led me to **[NYC OpenData](https://opendata.cityofnewyork.us/)**, where I got the datasets used here. After browsing the available datasets, I decided to go with real estate, as there are several large datasets pertaining to that topic that caught my eye, and I picked these for my analysis.\n",
    "\n",
    "My hope is that I will design this analysis in a generic enough way that I can use large parts of its code in analyses of other NYC OpenData datasets.\n"
   ]
  },
  {
   "attachments": {
    "image.png": {
     "image/png": "[encoded data removed]"
    }
   },
   "cell_type": "markdown",
   "metadata": {},
   "source": [
    "### **<center>Finding and choosing datasets</center>**\n",
    "\n",
    "![image.png](attachment:image.png)\n",
    "\n",
    "- ### [NYC Open Data Search page](https://data.cityofnewyork.us/browse?q=&sortBy=relevance)\n",
    "\n",
    "  - [New York City Open Data](https://opendata.cityofnewyork.us/) is a repository of free public data published by New York City agencies and their partners. It is managed by the Open Data Team at the NYC Office of Technology and Innovation (OTI)\n",
    "\n",
    "- ### Search terms:\n",
    "\n",
    "  - \"property\", \"housing\", \"easements\", \"land use\"\n",
    "\n",
    "- ### Selection of datasets:\n",
    "\n",
    "  - I did not use any formal criteria to choose datasets, but I favored ones that were larger and included dollar amounts of money as at least one of their fields.\n",
    "\n",
    "- ### Interesting datasets:\n",
    "  - These datasets are all related to land use and housing and are cross-referenceable using borough, block, and lot. Although my analysis will only focus on one or two of the datasets, I want to bring together the related data for possible future analysis.\n",
    "    - **Primary Land Use Tax Lot Output (PLUTO)**: Land use and geographic data at the tax lot level, includes assessed property values. [Dataset main page is here](https://data.cityofnewyork.us/City-Government/Primary-Land-Use-Tax-Lot-Output-PLUTO-/64uk-42ks/about_data).\n",
    "    - **Property Valuation and Assessment Data**: The Department of Finance-assessed values for properties, evaluated every year as one step in calculating property tax bills. [Dataset main page is here](https://data.cityofnewyork.us/City-Government/Property-Valuation-and-Assessment-Data/yjxr-fw8i/about_data)\n",
    "    - **Tax Lien Sale Lists**: Properties with tax, water liens and other charges that may be eligible for inclusion in the next lien sale, as well as tax liens which were eventually sold. [Dataset main page is here](https://data.cityofnewyork.us/City-Government/Tax-Lien-Sale-Lists/9rz4-mjek/about_data)\n",
    "    - **Housing Maintenance Code Violations**: Violations against conditions, in rental dwelling units and buildings, that have been verified to violate the New York City Housing Maintenance Code (HMC) or the New York State Multiple Dwelling Law (MDL). [Dataset main page is here](https://data.cityofnewyork.us/Housing-Development/Housing-Maintenance-Code-Violations/wvxf-dwi5/about_data)\n",
    "    - **Assessment Actions**: Tax Commission actions for reducing assessments or reclassifying property. [Dataset main page is here](https://data.cityofnewyork.us/City-Government/Assessment-Actions/4nft-bihw/about_data)\n",
    "    - **Housing Database**: NYC Department of City Planning (DCP) Housing Database containing all NYC Department of Buildings (DOB)-approved housing construction and demolition jobs filed or completed in NYC since January 1, 2010. [Dataset main page is here](https://data.cityofnewyork.us/Housing-Development/Housing-Database/6umk-irkx/about_data). The dataset itself is hosted elsewhere, so the url creation strategy that I use for the other datasets will not work.\n",
    "\n",
    "#### _For the selected datasets, the id should be the only thing needed to construct urls and set up the necessary variables. The id is in the url for the dataset main page between the name of the dataset and '/about_data', shown in bold: [https://data.cityofnewyork.us/City-Government/Primary-Land-Use-Tax-Lot-Output-PLUTO-/**64uk-42ks**/about_data](https://data.cityofnewyork.us/City-Government/Primary-Land-Use-Tax-Lot-Output-PLUTO-/64uk-42ks/about_data)_\n",
    "\n",
    "---\n"
   ]
  },
  {
   "cell_type": "markdown",
   "metadata": {},
   "source": [
    "# **<center>Environment setup</center>**\n",
    "\n",
    "---\n",
    "\n",
    "- ### Import the libraries used in this notebook\n"
   ]
  },
  {
   "cell_type": "code",
   "execution_count": null,
   "metadata": {},
   "outputs": [],
   "source": [
    "import os\n",
    "import time\n",
    "from dataclasses import dataclass, field\n",
    "from typing import List\n",
    "import re\n",
    "import requests\n",
    "from sqlalchemy import Integer, Float, String, Date, LargeBinary, Boolean\n",
    "import dill\n",
    "from src.helpers import *\n",
    "from src.models import *\n"
   ]
  },
  {
   "cell_type": "markdown",
   "metadata": {},
   "source": [
    "- ### Customize the directories to be used to where on your machine you want them.\n",
    "  - #### Set paths for where to create the data folder where datasets will be downloaded and the sqlite database created. It will be at least several gigabytes if not more, so make sure you have space.\n"
   ]
  },
  {
   "cell_type": "code",
   "execution_count": 2,
   "metadata": {},
   "outputs": [],
   "source": [
    "# Directory where the data folder for this analysis is to be created\n",
    "DATADIR = \"/home/james/Massive/PROJECTDATA\"\n",
    "\n",
    "# Name of the folder in which the project data is stored\n",
    "PROJECT_NAME = \"nyc_real_estate\""
   ]
  },
  {
   "cell_type": "markdown",
   "metadata": {},
   "source": [
    "- ### Set the names and paths of the datasets to be used. Here they are already set for the analysis I am doing, but the hope is to make it as adaptable to other datasets as possible.\n"
   ]
  },
  {
   "cell_type": "code",
   "execution_count": 3,
   "metadata": {},
   "outputs": [],
   "source": [
    "# Create paths that will be frequently used throughout the project\n",
    "PROJECT_PATH = os.getcwd()\n",
    "PROJECT_DATA = f\"{DATADIR}/{PROJECT_NAME}_data\"\n",
    "SQLITE_PATH = f\"sqlite:///{PROJECT_DATA}/{PROJECT_NAME}_db.sqlite\""
   ]
  },
  {
   "cell_type": "code",
   "execution_count": 4,
   "metadata": {},
   "outputs": [],
   "source": [
    "\n",
    "# Create necessary directories from the paths\n",
    "os.makedirs(\n",
    "    PROJECT_DATA, exist_ok=True\n",
    ")  # Make the main directory for the project downloads and data\n",
    "os.makedirs(f\"{PROJECT_DATA}/downloads\", exist_ok=True)  # Make the download directory\n",
    "os.makedirs(\n",
    "    f\"{PROJECT_DATA}/intermediate_files\", exist_ok=True\n",
    ")  # Location for intermediate files\n",
    "os.makedirs(\n",
    "    f\"{PROJECT_DATA}/files_to_use\", exist_ok=True\n",
    ")  # Location where cleaned data to be directly used in analysis is stored\n",
    "os.makedirs(\n",
    "    f\"{PROJECT_DATA}/dictionaries\", exist_ok=True\n",
    ")  # Location where cleaned data to be directly used in analysis is stored"
   ]
  },
  {
   "cell_type": "markdown",
   "metadata": {},
   "source": [
    "- ### Create a dataclass to store metadata about the datasets.\n"
   ]
  },
  {
   "cell_type": "code",
   "execution_count": 5,
   "metadata": {},
   "outputs": [],
   "source": [
    "# Dataclass to hold information about an NYC Open Data dataset, to filled with metadata provided by the API\n",
    "@dataclass\n",
    "class Dataset:\n",
    "    \"\"\"Class to hold dataset metadata\"\"\"\n",
    "\n",
    "    main_url: str  # The url for the dataset's main page\n",
    "    standard: bool = (\n",
    "        True  # Set to False if either the dataset is not hosted on NYC Open Data or follows a format different from the standard\n",
    "    )\n",
    "    geodata: bool = False\n",
    "    id: str = field(\n",
    "        init=False\n",
    "    )  # the string ID used by NYC Open Data. In most cases, this is enough to construct all needed URLs.\n",
    "    metadata_url: str = field(init=False)  # The download URL for the dataset\n",
    "    data_url: str = field(default=None)  # The download URL for the dataset\n",
    "    format: str = field(default=\"json\")  # File format of the data_url\n",
    "    data_dict_url: str = None  # The URL for the dataset's data dictionary\n",
    "    other_files: List[str] = None  # A list of other files associated with the dataset\n",
    "    name: str = None  # The name of the dataset\n",
    "    short_name: str = None  # My shortened name for the dataset\n",
    "    attribution: str = (\n",
    "        None  # The attribution for the dataset according to NYC Open Data\n",
    "    )\n",
    "    createdAt: str = None  # The date the dataset was created by NYC Open Data\n",
    "    description: str = None  # NYC Open Data's description of the dataset\n",
    "    provenance: str = None  # NYC Open Data's provenance for the dataset\n",
    "    publicationDate: str = None  # Publication date of the dataset\n",
    "    rowsUpdatedAt: str = (\n",
    "        None  # The date the dataset was last updated at the time of metadata retrieval\n",
    "    )\n",
    "    columns: dict = field(\n",
    "        default_factory=dict\n",
    "    )  # A dictionary of the columns in the dataset and their data types\n",
    "\n",
    "    def __post_init__(self):\n",
    "        self.id = re.sub(\n",
    "            r\".*/(.*)/about_data\", r\"\\1\", self.main_url\n",
    "        )  # Extract the ID from the main URL\n",
    "        self.metadata_url = f\"https://data.cityofnewyork.us/api/views/{self.id}.json\"\n",
    "        if self.data_url is None:  # Only construct the `data_url` if it's not provided\n",
    "            self.data_url = (\n",
    "                f\"https://data.cityofnewyork.us/api/views/{self.id}/rows.json?accessType=DOWNLOAD\"\n",
    "                if self.standard\n",
    "                else None\n",
    "            )"
   ]
  },
  {
   "cell_type": "markdown",
   "metadata": {},
   "source": [
    "- ### Create instances of the new dataclass for each dataset.\n",
    "\n",
    "  - #### Create a dictionary of instances of the `Dataset` dataclass, one for each dataset I have chosen The keys are a shortened version of the dataset name that I made up. Values are the urls for the information pages that one finds when [searching the OpenData website](https://data.cityofnewyork.us/browse?q=&sortBy=relevance). Although it would take a lot of testing to verify, the intention is to be able to substitute a different set of urls and proceed through the notebook set with minimal modification. I opted not to use it this time, but if the code proves to be reusable, I could use a tool like [Papermill](https://papermill.readthedocs.io/en/latest/)\n"
   ]
  },
  {
   "cell_type": "code",
   "execution_count": 6,
   "metadata": {},
   "outputs": [],
   "source": [
    "datasets = {\n",
    "    \"mapPLUTO\": Dataset(\n",
    "        main_url=\"https://data.cityofnewyork.us/City-Government/Primary-Land-Use-Tax-Lot-Output-Map-MapPLUTO-/f888-ni5f/about_data\",\n",
    "        standard=False,\n",
    "        data_url=\"https://s-media.nyc.gov/agencies/dcp/assets/files/zip/data-tools/bytes/nyc_mappluto_24v4_fgdb.zip\",\n",
    "        format=\"zip\",\n",
    "        geodata=True,\n",
    "    ),\n",
    "    \"assessments\": Dataset(\n",
    "        main_url=\"https://data.cityofnewyork.us/City-Government/Property-Valuation-and-Assessment-Data/yjxr-fw8i/about_data\"\n",
    "    ),\n",
    "    \"tax_liens\": Dataset(\n",
    "        main_url=\"https://data.cityofnewyork.us/City-Government/Tax-Lien-Sale-Lists/9rz4-mjek/about_data\"\n",
    "    ),\n",
    "    \"housing_violations\": Dataset(\n",
    "        main_url=\"https://data.cityofnewyork.us/Housing-Development/Housing-Maintenance-Code-Violations/wvxf-dwi5/about_data\"\n",
    "    ),\n",
    "    \"assessment_actions\": Dataset(\n",
    "        main_url=\"https://data.cityofnewyork.us/City-Government/Assessment-Actions/4nft-bihw/about_data\"\n",
    "    ),\n",
    "    \"housing_database\": Dataset(\n",
    "        main_url=\"https://data.cityofnewyork.us/Housing-Development/Housing-Database/6umk-irkx/about_data\",\n",
    "        standard=False,\n",
    "        data_url=\"https://s-media.nyc.gov/agencies/dcp/assets/files/zip/data-tools/bytes/nychousingdb_24q2_gdb.zip\",\n",
    "        format=\"zip\",\n",
    "        geodata=True,\n",
    "    ),\n",
    "    \"NTAs2020\": Dataset(\n",
    "        main_url=\"https://data.cityofnewyork.us/City-Government/2020-Neighborhood-Tabulation-Areas-NTAs-/9nt8-h7nd/about_data\"\n",
    "    ),\n",
    "    \"NTA_population_2020\": Dataset(\n",
    "        main_url=\"https://data.cityofnewyork.us/City-Government/New-York-City-Population-By-Neighborhood-Tabulatio/swpk-hqdp/about_data\"\n",
    "    ),\n",
    "    \"NTA_demographics_2020\": Dataset(\n",
    "        main_url=\"https://data.cityofnewyork.us/City-Government/Census-Demographics-at-the-Neighborhood-Tabulation/rnsn-acs2/about_data\"\n",
    "    ),\n",
    "    \"census_blocks2020\": Dataset(\n",
    "        main_url=\"https://data.cityofnewyork.us/City-Government/2020-Census-Blocks/wmsu-5muw/about_data\"\n",
    "    ),\n",
    "    \"CDTAs2020\": Dataset(\n",
    "        main_url=\"https://data.cityofnewyork.us/City-Government/2020-Community-District-Tabulation-Areas-CDTAs-/xn3r-zk6y/about_data\"\n",
    "    ),\n",
    "    \"puma2020\": Dataset(\n",
    "        main_url=\"https://data.cityofnewyork.us/City-Government/2020-Public-Use-Microdata-Areas-PUMAs-/pikk-p9nv/about_data\"\n",
    "    ),\n",
    "    \"cert_of_occupancy\": Dataset(\n",
    "        main_url=\"https://data.cityofnewyork.us/Housing-Development/DOB-Certificate-Of-Occupancy/bs8b-p36w/about_data\"\n",
    "    ),\n",
    "}"
   ]
  },
  {
   "cell_type": "code",
   "execution_count": null,
   "metadata": {},
   "outputs": [],
   "source": [
    "for name, dataset in datasets.items():\n",
    "    print(name, dataset.data_url)"
   ]
  },
  {
   "cell_type": "markdown",
   "metadata": {},
   "source": [
    "- ### Inspect the metadata for the chosen datasets to identify columns to rename, specify the data type of, or make other decisions about.\n"
   ]
  },
  {
   "cell_type": "code",
   "execution_count": 7,
   "metadata": {},
   "outputs": [
    {
     "name": "stdout",
     "output_type": "stream",
     "text": [
      "mapPLUTO\n",
      "assessments\n",
      "tax_liens\n",
      "housing_violations\n",
      "assessment_actions\n",
      "housing_database\n",
      "NTAs2020\n",
      "NTA_population_2020\n",
      "NTA_demographics_2020\n",
      "census_blocks2020\n",
      "CDTAs2020\n",
      "puma2020\n",
      "cert_of_occupancy\n"
     ]
    }
   ],
   "source": [
    "for short_name, dataset in datasets.items():\n",
    "    print(short_name)\n",
    "    response = requests.get(dataset.metadata_url, timeout=10)\n",
    "    response.raise_for_status()\n",
    "    metadata = response.json()\n",
    "    data_dict = [\n",
    "        (attachment[\"assetId\"], attachment[\"filename\"])\n",
    "        for attachment in metadata[\"metadata\"][\"attachments\"]\n",
    "        if any(s in attachment[\"filename\"].casefold() for s in [\"dict\", \"dd\"])\n",
    "    ]\n",
    "    if data_dict:\n",
    "        dataset.data_dict_url = f\"https://data.cityofnewyork.us/api/views/{dataset.id}/files/{data_dict[0][0]}?download=true&filename={data_dict[0][1]}\"\n",
    "    dataset.name = metadata[\"name\"]\n",
    "    dataset.short_name = short_name\n",
    "    try:\n",
    "        dataset.other_files = [\n",
    "            (attachment[\"assetId\"], attachment[\"filename\"])\n",
    "            for attachment in metadata[\"metadata\"][\"attachments\"]\n",
    "            if not any(s in attachment[\"filename\"].casefold() for s in [\"dict\", \"dd\"])\n",
    "        ]\n",
    "    except KeyError:\n",
    "        dataset.other_files = None\n",
    "    try:\n",
    "        dataset.attribution = metadata[\"attribution\"]\n",
    "    except KeyError:\n",
    "        dataset.attribution = None\n",
    "    try:\n",
    "        dataset.createdAt = metadata[\"createdAt\"]\n",
    "    except KeyError:\n",
    "        dataset.attribution = None\n",
    "    try:\n",
    "        dataset.description = metadata[\"description\"]\n",
    "    except KeyError:\n",
    "        dataset.attribution = None\n",
    "    try:\n",
    "        dataset.provenance = metadata[\"provenance\"]\n",
    "    except KeyError:\n",
    "        dataset.attribution = None\n",
    "    try:\n",
    "        dataset.publicationDate = metadata[\"publicationDate\"]\n",
    "    except KeyError:\n",
    "        dataset.attribution = None\n",
    "    try:\n",
    "        dataset.rowsUpdatedAt = (\n",
    "            (  # The column for when the dataset was last updated is usually called `rowsUpdatedAt`, but sometimes it's called `viewLastModified`\n",
    "                metadata[\"rowsUpdatedAt\"]\n",
    "                if \"rowsUpdatedAt\" in metadata.keys()\n",
    "                else (\n",
    "                    metadata[\"viewLastModified\"]\n",
    "                    if \"viewLastModified\" in metadata.keys()\n",
    "                    else None\n",
    "                )\n",
    "            ),\n",
    "        )\n",
    "    except KeyError:\n",
    "        dataset.attribution = None\n",
    "    try:\n",
    "        dataset.columns = {\n",
    "            col[\"name\"]: col[\"dataTypeName\"] for col in metadata[\"columns\"]\n",
    "        }\n",
    "    except KeyError:\n",
    "        dataset.attribution = None\n",
    "    time.sleep(5)"
   ]
  },
  {
   "cell_type": "code",
   "execution_count": null,
   "metadata": {},
   "outputs": [],
   "source": [
    "for name, dataset in datasets.items():\n",
    "    print(name, dataset.data_dict_url)"
   ]
  },
  {
   "cell_type": "code",
   "execution_count": 11,
   "metadata": {},
   "outputs": [],
   "source": [
    "# objects_to_save = [datasets, PROJECT_PATH, PROJECT_DATA, SQLITE_PATH, DATADIR, PROJECT_NAME]\n",
    "\n",
    "objects_to_save = {'datasets' : datasets, 'PROJECT_PATH' : PROJECT_PATH, 'PROJECT_DATA' : PROJECT_DATA, 'SQLITE_PATH' : SQLITE_PATH, 'DATADIR' : DATADIR, 'PROJECT_NAME' : PROJECT_NAME}\n",
    "\n",
    "with open(\"environment_data/select.pkl\", \"wb\") as f:\n",
    "    dill.dump(objects_to_save, f)"
   ]
  },
  {
   "cell_type": "code",
   "execution_count": 9,
   "metadata": {},
   "outputs": [],
   "source": [
    "# Create a copy of the globals() dictionary to avoid RuntimeError\n",
    "globals_copy = globals().copy()\n",
    "\n",
    "# List of known problematic objects\n",
    "exclude_keys = [\"get_ipython\", \"exit\", \"quit\"]\n",
    "\n",
    "# Filter out non-serializable objects and log warnings\n",
    "serializable_globals = {}\n",
    "for k, v in globals_copy.items():\n",
    "    if k not in exclude_keys:\n",
    "        try:\n",
    "            dill.dumps(v)\n",
    "            serializable_globals[k] = v\n",
    "        except Exception as e:\n",
    "            print(f\"Warning: Could not serialize object {k}: {e}\")\n",
    "\n",
    "# Save the filtered environment\n",
    "os.makedirs(\n",
    "    f\"environment_data\", exist_ok=True\n",
    ")  # Directory to store environment files, excluded in .gitignore\n",
    "with open(\"environment_data/environment.pkl\", \"wb\") as f:\n",
    "    dill.dump(serializable_globals, f)"
   ]
  },
  {
   "cell_type": "code",
   "execution_count": null,
   "metadata": {},
   "outputs": [],
   "source": [
    "for name, dataset in datasets.items():\n",
    "    print(name)\n",
    "    print(dataset.data_url)\n",
    "    downloader(\n",
    "        url=dataset.data_url,\n",
    "        download_path=f\"{PROJECT_DATA}/downloads\",\n",
    "        outfile_name=f\"{dataset.short_name}.{dataset.format}\",\n",
    "        bigfile=True,\n",
    "        chunk_size=8192,\n",
    "    )\n",
    "    if dataset.data_dict_url is not None:\n",
    "        try:\n",
    "            file_type = dataset.data_dict_url.split(\".\")[-1]\n",
    "        except AttributeError:\n",
    "            print(\n",
    "                f\"{RED}Could not parse filetype from {CYAN}{dataset.data_dict_url}{RESET}!\"\n",
    "            )\n",
    "            continue\n",
    "        print(dataset.data_dict_url)\n",
    "        downloader(\n",
    "            url=dataset.data_dict_url,\n",
    "            download_path=f\"{PROJECT_DATA}/dictionaries/\",\n",
    "            outfile_name=f\"{dataset.short_name}_data_dictionary.{file_type}\",\n",
    "            bigfile=False,\n",
    "        )"
   ]
  },
  {
   "cell_type": "code",
   "execution_count": null,
   "metadata": {},
   "outputs": [],
   "source": [
    "for name, dataset in datasets.items():\n",
    "    print(name)\n",
    "    print(dataset.data_url)\n",
    "    if dataset.format == \"json\":\n",
    "        jqfilter(\n",
    "            infile=f\"{PROJECT_DATA}/downloads/{name}.json\",\n",
    "            outfile=f\"{PROJECT_DATA}/files_to_use/{name}_rows.json\",\n",
    "            jq_filter=\".data\",\n",
    "        )\n",
    "    elif dataset.format == \"zip\":\n",
    "        unzipper(\n",
    "            infile=f\"{PROJECT_DATA}/downloads/{name}.zip\",\n",
    "            outdir=f\"{PROJECT_DATA}/files_to_use/\",\n",
    "        )\n",
    "    print(f\"Done with {dataset.data_url}\")"
   ]
  },
  {
   "cell_type": "code",
   "execution_count": null,
   "metadata": {},
   "outputs": [],
   "source": [
    "for name, dataset in datasets.items():\n",
    "    print(name)\n",
    "    print(dataset.columns)"
   ]
  },
  {
   "cell_type": "markdown",
   "metadata": {},
   "source": []
  }
 ],
 "metadata": {
  "kernelspec": {
   "display_name": "gpd_testing",
   "language": "python",
   "name": "python3"
  },
  "language_info": {
   "codemirror_mode": {
    "name": "ipython",
    "version": 3
   },
   "file_extension": ".py",
   "mimetype": "text/x-python",
   "name": "python",
   "nbconvert_exporter": "python",
   "pygments_lexer": "ipython3",
   "version": "3.13.1"
  }
 },
 "nbformat": 4,
 "nbformat_minor": 2
}
