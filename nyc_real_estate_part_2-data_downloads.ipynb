{
 "cells": [
  {
   "cell_type": "code",
   "execution_count": null,
   "metadata": {},
   "outputs": [],
   "source": [
    "# Import standard libraries\n",
    "import os\n",
    "import re\n",
    "import json\n",
    "import dataclasses\n",
    "import codecs\n",
    "import requests\n",
    "from urllib.request import urlopen\n",
    "import datetime\n",
    "\n",
    "\n",
    "# # Import third-party libraries\n",
    "import geopandas as gpd\n",
    "from geoalchemy2 import Geometry\n",
    "import pandas as pd\n",
    "import numpy as np\n",
    "import pyogrio\n",
    "import sqlalchemy\n",
    "from sqlalchemy import create_engine, Column, Integer, Float, String, Date, MetaData, event, Table, text, LargeBinary, ForeignKey\n",
    "from sqlalchemy.dialects.sqlite import insert\n",
    "from sqlalchemy.orm import sessionmaker, declarative_base\n",
    "from sqlalchemy.sql.sqltypes import Boolean\n",
    "from sqlalchemy.event import listen\n",
    "from sqlalchemy.engine import Engine\n",
    "# from sqlalchemy.ext.declarative import declarative_base\n",
    "\n",
    "import sqlite3\n",
    "import fiona\n",
    "from fiona.crs import from_epsg\n",
    "\n"
   ]
  },
  {
   "cell_type": "code",
   "execution_count": null,
   "metadata": {
    "vscode": {
     "languageId": "shellscript"
    }
   },
   "outputs": [],
   "source": [
    "%%bash\n",
    "\n",
    "mkdir -p {DATADIR}\n",
    "\n",
    "declare -A geodata\n",
    "\n",
    "geodata[\"census_blocks\"]=\"https://s-media.nyc.gov/agencies/dcp/assets/files/zip/data-tools/bytes/nycb2020_24d.zip\"\n",
    "geodata[\"NTA\"]=\"https://s-media.nyc.gov/agencies/dcp/assets/files/zip/data-tools/bytes/nynta2020_24d.zip\"\n",
    "geodata[\"MapPLUTO\"]=\"https://s-media.nyc.gov/agencies/dcp/assets/files/zip/data-tools/bytes/nyc_mappluto_24v3_1_fgdb.zip\"\n",
    "\n",
    "for dataset in \"${!geodata[@]}\"; do\n",
    "  echo \"${geodata[${dataset}]}\"\n",
    "  wget -nv -O $DATADIR/Downloads/\"${dataset}\".zip ${geodata[${dataset}]}\n",
    "  unzip $DATADIR/Downloads/\"${dataset}\" -d $DATADIR/intermediate_files/\n",
    "  rm -f $DATADIR/Downloads/\"${dataset}\".zip\n",
    "done"
   ]
  },
  {
   "cell_type": "markdown",
   "metadata": {},
   "source": [
    "## Download the main datasets of interest:\n",
    "* Lien sales\n",
    "* Tax assessments\n",
    "* Applications for changes in property assessments or classification"
   ]
  },
  {
   "cell_type": "code",
   "execution_count": null,
   "metadata": {
    "vscode": {
     "languageId": "shellscript"
    }
   },
   "outputs": [],
   "source": [
    "%%bash\n",
    "\n",
    "declare -A datasets\n",
    "\n",
    "datasets[\"lien_data\"]=\"https://data.cityofnewyork.us/api/views/9rz4-mjek/rows.json?accessType=DOWNLOAD\"\n",
    "datasets[\"assessment_data\"]=\"https://data.cityofnewyork.us/api/views/yjxr-fw8i/rows.json?accessType=DOWNLOAD\"\n",
    "datasets[\"assessment_actions\"]=\"https://data.cityofnewyork.us/api/views/4nft-bihw/rows.json?accessType=DOWNLOAD\"\n",
    "\n",
    "# Function to download datasets and extract data and column names. This seems to work with many NYC Open Data datasets\n",
    "get_nyc_open_dataset () {\n",
    "    name=$1\n",
    "    url=$2\n",
    "    datadir=$3\n",
    "    declare ${name}_url=$url\n",
    "    wget -nv -O $datadir/Downloads/${name}.json $url && \n",
    "    echo \"The file ${name}.json, was dowloaded from $url at $(date -u)\\n\"  >> $datadir/Downloads/data_download.log\n",
    "    # Extract the column names\n",
    "    jq '.meta.view.columns.[].name '<$datadir/Downloads/${name}.json > $datadir/intermediate_files/${name}_colnames.txt\n",
    "    # Extract data types\n",
    "    jq '.meta.view.columns.[].dataTypeName '<$datadir/Downloads/${name}.json > $datadir/intermediate_files/${name}_data_types.txt\n",
    "    # Extract the data\n",
    "    cat $datadir/Downloads/${name}.json | jq '.data' > $DATADIR/intermediate_files/${name}_rows.json\n",
    "}\n",
    "\n",
    "\n",
    "# Make sure I am create with a new logfile\n",
    "echo '' > $DATADIR/Downloads/data_download.log\n",
    "\n",
    "for dataset in \"${!datasets[@]}\"; do\n",
    "  echo \"${dataset} => ${datasets[${dataset}]}\"\n",
    "  get_nyc_open_dataset $dataset \"${datasets[${dataset}]}\" $DATADIR\n",
    "done\n",
    "\n",
    "\n"
   ]
  },
  {
   "cell_type": "markdown",
   "metadata": {},
   "source": [
    "### Rename a column in one of the datasets for consistency later on, this is due to a peculiarity due to different schemas between the two datasets\n",
    "* This is a good place for any other fixes that are specific to the dataset at hand."
   ]
  },
  {
   "cell_type": "code",
   "execution_count": null,
   "metadata": {
    "vscode": {
     "languageId": "shellscript"
    }
   },
   "outputs": [],
   "source": [
    "%%bash\n",
    "\n",
    "sed -i 's/Borough/borough/g' $DATADIR/intermediate_files/lien_data_colnames.txt\n"
   ]
  }
 ],
 "metadata": {
  "language_info": {
   "name": "python"
  }
 },
 "nbformat": 4,
 "nbformat_minor": 2
}
