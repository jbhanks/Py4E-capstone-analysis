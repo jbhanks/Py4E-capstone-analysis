{
 "cells": [
  {
   "cell_type": "markdown",
   "metadata": {},
   "source": [
    "# Create and populate the database"
   ]
  },
  {
   "cell_type": "code",
   "execution_count": 13,
   "metadata": {},
   "outputs": [],
   "source": [
    "# # Import standard libraries\n",
    "# import os\n",
    "# import re\n",
    "# import json\n",
    "# import codecs\n",
    "# import requests\n",
    "import dill\n",
    "# from urllib.request import urlopen\n",
    "\n",
    "# # Import third-party libraries\n",
    "# import geopandas as gpd\n",
    "# from geoalchemy2 import Geometry\n",
    "# import pandas as pd\n",
    "from sqlalchemy import create_engine, Column, Integer, String, Date, MetaData, event, Table, text, LargeBinary\n",
    "from sqlalchemy.dialects.sqlite import insert\n",
    "from sqlalchemy.orm import sessionmaker\n",
    "# from sqlalchemy.event import listen\n",
    "# from sqlalchemy.engine import Engine\n",
    "# from sqlalchemy.ext.declarative import declarative_base\n",
    "\n",
    "# import sqlite3\n",
    "# from sqlite3 import dbapi2 as sqlite\n",
    "\n",
    "# import fiona\n",
    "# from fiona.crs import from_epsg\n",
    "\n",
    "from src.helpers import *\n",
    "from src.dbutils import *\n",
    "from src.ORMutils import *\n",
    "from src.models import *\n",
    "from src.geo import *\n",
    "from src.pdfutils import *"
   ]
  },
  {
   "cell_type": "code",
   "execution_count": 14,
   "metadata": {},
   "outputs": [],
   "source": [
    "# Load the environment\n",
    "with open(\"environment_data/table_dicts.pkl\", \"rb\") as f:\n",
    "    env = dill.load(f)\n",
    "\n",
    "# Restore the environment\n",
    "globals().update(env)"
   ]
  },
  {
   "cell_type": "code",
   "execution_count": 15,
   "metadata": {},
   "outputs": [],
   "source": [
    "# Load the environment\n",
    "with open(\"environment_data/select.pkl\", \"rb\") as f:\n",
    "    env = dill.load(f)\n",
    "\n",
    "# Restore the environment\n",
    "globals().update(env)"
   ]
  },
  {
   "cell_type": "code",
   "execution_count": 16,
   "metadata": {},
   "outputs": [
    {
     "name": "stdout",
     "output_type": "stream",
     "text": [
      "mapPLUTO\n",
      "assessments\n",
      "tax_liens\n",
      "housing_violations\n",
      "assessment_actions\n",
      "housing_database\n",
      "NTAs2020\n",
      "NTA_population_2020\n",
      "NTA_demographics_2020\n",
      "census_blocks2020\n",
      "CDTAs2020\n",
      "puma2020\n",
      "cert_of_occupancy\n"
     ]
    }
   ],
   "source": [
    "for name, dataset in datasets.items():\n",
    "    print(dataset.short_name)"
   ]
  },
  {
   "cell_type": "markdown",
   "metadata": {},
   "source": [
    "* ### Create the database engine that will be used throughout the rest of the notebook."
   ]
  },
  {
   "cell_type": "code",
   "execution_count": 17,
   "metadata": {},
   "outputs": [],
   "source": [
    "engine = create_engine(f'{SQLITE_PATH}?check_same_thread=False', echo=False)\n",
    "\n",
    "SessionLocal = sessionmaker(bind=engine, autoflush=False, autocommit=False)"
   ]
  },
  {
   "cell_type": "markdown",
   "metadata": {},
   "source": [
    "* ### Configure the database"
   ]
  },
  {
   "cell_type": "code",
   "execution_count": 18,
   "metadata": {},
   "outputs": [
    {
     "name": "stdout",
     "output_type": "stream",
     "text": [
      "Loading SpatiaLite extension\n",
      "Connection established\n",
      "SpatiaLite version: 5.1.0\n"
     ]
    }
   ],
   "source": [
    "@event.listens_for(engine, \"connect\")\n",
    "def load_spatialite(dbapi_conn, connection_record):\n",
    "    print(\"Loading SpatiaLite extension\")\n",
    "    dbapi_conn.enable_load_extension(True)\n",
    "    dbapi_conn.load_extension(\"mod_spatialite\")\n",
    "    dbapi_conn.enable_load_extension(False)\n",
    "\n",
    "\n",
    "with engine.connect() as conn:\n",
    "    print(\"Connection established\")\n",
    "    result = conn.execute(text(\"SELECT spatialite_version()\"))\n",
    "    spatialite_version = result.fetchone()\n",
    "    print(f\"SpatiaLite version: {spatialite_version[0]}\")\n",
    "\n",
    "# Enable WAL mode\n",
    "with engine.connect() as conn:\n",
    "    conn.execute(text(\"PRAGMA journal_mode=WAL\"))\n",
    "\n",
    "# Initialize spatial metadata if not already present\n",
    "with engine.connect() as conn:\n",
    "    conn.execute(text(\"SELECT InitSpatialMetaData(1)\"))"
   ]
  },
  {
   "cell_type": "markdown",
   "metadata": {},
   "source": [
    "### Manually create the borough codes lookup table\n",
    "* These are standardized and available many places, however I could not find a single official source of record to programatically get them from, since there are only five of them, I enter them manually."
   ]
  },
  {
   "cell_type": "code",
   "execution_count": 19,
   "metadata": {},
   "outputs": [],
   "source": [
    "borough_codes = {'Manhattan' : 1,\n",
    "'Bronx' : 2,\n",
    "'Brooklyn' : 3,\n",
    "'Queens' : 4,\n",
    "'Staten Island' : 5}"
   ]
  },
  {
   "cell_type": "markdown",
   "metadata": {},
   "source": [
    "* Create the lookup table."
   ]
  },
  {
   "cell_type": "code",
   "execution_count": 20,
   "metadata": {},
   "outputs": [],
   "source": [
    "metadata = MetaData()\n",
    "metadata.reflect(bind=engine)\n",
    "\n",
    "def create_lookup_table_simple(engine=engine, metadata=metadata, lookup_table_name='new_lookup_table', lookup_column_name='name'):\n",
    "    lookup_table = Table(\n",
    "        lookup_table_name,\n",
    "        metadata,\n",
    "        Column('id', Integer, primary_key=True, autoincrement=False),\n",
    "        Column(lookup_column_name, String, unique=True, nullable=False, default=\"NO DATA\"),\n",
    "        extend_existing = True\n",
    "    )\n",
    "    if table_exists(engine, lookup_table_name):\n",
    "        print(\"Table exists\")\n",
    "    else:\n",
    "        lookup_table.create(engine)\n",
    "    return lookup_table"
   ]
  },
  {
   "cell_type": "markdown",
   "metadata": {},
   "source": [
    "* Populate the table with the borough codes."
   ]
  },
  {
   "cell_type": "code",
   "execution_count": 21,
   "metadata": {},
   "outputs": [],
   "source": [
    "borough_lookup_table = create_lookup_table_simple(engine=engine, metadata=metadata, lookup_table_name='boroughs', lookup_column_name='borough')\n",
    "\n",
    "with engine.connect() as connection:\n",
    "    for key,value in borough_codes.items():\n",
    "        stmt = insert(borough_lookup_table).values(id = value, borough = key).on_conflict_do_nothing()\n",
    "        connection.execute(stmt)\n",
    "    connection.commit()"
   ]
  },
  {
   "cell_type": "markdown",
   "metadata": {},
   "source": [
    "* ### Create lookup tables variables identified as categorical and for which definitions were extracted from the metadata in the previous notebook."
   ]
  },
  {
   "cell_type": "code",
   "execution_count": null,
   "metadata": {},
   "outputs": [
    {
     "name": "stdout",
     "output_type": "stream",
     "text": [
      "table is ColCustomization(short_name='Borough', new_name='borough', dtype='String', synonyms=[], definitions=[['BX', 'Bronx'], ['BK', 'Brooklyn'], ['MN', 'Manhattan'], ['QN', 'Queens']], drop=False, is_fk=True)\n",
      "shortened: Borough\n",
      "prefixes are []\n",
      "table.new_name is borough\n",
      "[]\n",
      "False\n",
      "Table exists\n",
      "Table Borough was not properly retrieved or created. Perhaps it exists? Skipping for now..\n",
      "table is ColCustomization(short_name='SanitBoro', new_name='sanitation_district_boro', dtype='Float', synonyms=[], definitions=[['1', 'Manhattan'], ['2', 'Bronx'], ['3', 'Brooklyn'], ['4', 'Queens']], drop=False, is_fk=True)\n",
      "shortened: Sanitation_District_Boro\n",
      "prefixes are []\n",
      "table.new_name is sanitation_district_boro\n",
      "[]\n",
      "False\n",
      "Table exists\n",
      "Table Sanitation_District_Boro was not properly retrieved or created. Perhaps it exists? Skipping for now..\n",
      "table is ColCustomization(short_name='SPDist1', new_name='special_purpose_district_1', dtype='String', synonyms=[], definitions=[['125th', 'Special 125th Street District'], ['BNY', 'Special Brooklyn Navy Yard District'], ['BPC', 'Special Battery Park City District'], ['BR', 'Special Bay Ridge District'], ['BSC', 'Special Bay Street Corridor District'], ['C', 'Special Grand Concourse Preservation District'], ['CD', 'Special City Island District'], ['CI', 'Special Coney Island District'], ['CL', 'Special Clinton District'], ['CO', 'Special Coney Island Mixed Use District'], ['CP', 'Special College Point District'], ['CR - n', 'Special Coastal Risk District, where n is the number of the\\ndistrict'], ['DB', 'Special Downtown Brooklyn District'], ['DFR', 'Special Downtown Far Rockaway District'], ['DJ', 'Special Downtown Jamaica District'], ['EC-n', 'Special Enhanced Commercial District, where n is the\\nnumber of the district'], ['EHC', 'East Harlem Corridors'], ['FH', 'Special Forest Hills District'], ['FW', 'Special Flushing Waterfront District'], ['G', 'Special Gowanus Mixed Use District'], ['GC', 'Special Garment Center District'], ['GI', 'Special Governors Island District'], ['HP', 'Special Hunts Point District'], ['HRP', 'Special Hudson River Park District'], ['HRW', 'Special Harlem River Waterfront District'], ['HS', 'Special Hillsides Preservation District'], ['HSQ', 'Special Hudson Square District'], ['HY', 'Special Hudson Yards District'], ['IN', 'Special Inwood District'], ['J', 'Jerome Corridor District'], ['L', 'Special Lincoln Square District'], ['LC', 'Special Limited Commercial District'], ['LI', 'Special Little Italy District'], ['LIC', 'Special Long Island City Mixed Use District'], ['LM', 'Special Lower Manhattan District'], ['MiD', 'Special Midtown District'], ['MMU', 'Special Manhattanville Mixed Use District'], ['MP', 'Special Madison Avenue Preservation District'], ['MX-n', 'Special Mixed Use District, where n is the number of the\\ndistrict'], ['NA-n', 'Special Natural Area District, where n is the number of the\\ndistrict'], ['NA-4', 'Special Fort Totten Natural Area District-4'], ['OP', 'Special Ocean Parkway District'], ['PC', 'Special Planned Community Preservation District'], ['PI', 'Special Park Improvement District'], ['SB', 'Special Sheepshead Bay District'], ['SG', 'Special St. George District'], ['SHP', 'Special Southern Hunters Point District'], ['SNX', 'Special SoHo-NoHo Mixed Use District'], ['SRD', 'Special South Richmond Development District'], ['SRI', 'Special Southern Roosevelt Island District'], ['SV-1', 'Special Scenic View District'], ['SW', 'Special Stapleton Waterfront District'], ['TA', 'Special Transit Land Use District'], ['TMU', 'Special Tribeca Mixed Use District'], ['U', 'Special United Nations Development District'], ['US', 'Special Union Square District'], ['WCh', 'Special West Chelsea District'], ['WP', 'Special Willets Point District']], drop=False, is_fk=True)\n",
      "shortened: Special_Purpose_District\n",
      "prefixes are []\n",
      "table.new_name is special_purpose_district_1\n",
      "[]\n",
      "False\n",
      "Table exists\n",
      "Table Special_Purpose_District_1 was not properly retrieved or created. Perhaps it exists? Skipping for now..\n",
      "table is ColCustomization(short_name='SPDist2', new_name='special_purpose_district_2', dtype='String', synonyms=[], definitions=[['125th', 'Special 125th Street District'], ['BNY', 'Special Brooklyn Navy Yard District'], ['BPC', 'Special Battery Park City District'], ['BR', 'Special Bay Ridge District'], ['BSC', 'Special Bay Street Corridor District'], ['C', 'Special Grand Concourse Preservation District'], ['CD', 'Special City Island District'], ['CI', 'Special Coney Island District'], ['CL', 'Special Clinton District'], ['CO', 'Special Coney Island Mixed Use District'], ['CP', 'Special College Point District'], ['CR - n', 'Special Coastal Risk District, where n is the number of the\\ndistrict'], ['DB', 'Special Downtown Brooklyn District'], ['DFR', 'Special Downtown Far Rockaway District'], ['DJ', 'Special Downtown Jamaica District'], ['EC-n', 'Special Enhanced Commercial District, where n is the\\nnumber of the district'], ['EHC', 'East Harlem Corridors'], ['FH', 'Special Forest Hills District'], ['FW', 'Special Flushing Waterfront District'], ['G', 'Special Gowanus Mixed Use District'], ['GC', 'Special Garment Center District'], ['GI', 'Special Governors Island District'], ['HP', 'Special Hunts Point District'], ['HRP', 'Special Hudson River Park District'], ['HRW', 'Special Harlem River Waterfront District'], ['HS', 'Special Hillsides Preservation District'], ['HSQ', 'Special Hudson Square District'], ['HY', 'Special Hudson Yards District'], ['IN', 'Special Inwood District'], ['J', 'Jerome Corridor District'], ['L', 'Special Lincoln Square District'], ['LC', 'Special Limited Commercial District'], ['LI', 'Special Little Italy District'], ['LIC', 'Special Long Island City Mixed Use District'], ['LM', 'Special Lower Manhattan District'], ['MiD', 'Special Midtown District'], ['MMU', 'Special Manhattanville Mixed Use District'], ['MP', 'Special Madison Avenue Preservation District'], ['MX-n', 'Special Mixed Use District, where n is the number of the\\ndistrict'], ['NA-n', 'Special Natural Area District, where n is the number of the\\ndistrict'], ['NA-4', 'Special Fort Totten Natural Area District-4'], ['OP', 'Special Ocean Parkway District'], ['PC', 'Special Planned Community Preservation District'], ['PI', 'Special Park Improvement District'], ['SB', 'Special Sheepshead Bay District'], ['SG', 'Special St. George District'], ['SHP', 'Special Southern Hunters Point District'], ['SNX', 'Special SoHo-NoHo Mixed Use District'], ['SRD', 'Special South Richmond Development District'], ['SRI', 'Special Southern Roosevelt Island District'], ['SV-1', 'Special Scenic View District'], ['SW', 'Special Stapleton Waterfront District'], ['TA', 'Special Transit Land Use District'], ['TMU', 'Special Tribeca Mixed Use District'], ['U', 'Special United Nations Development District'], ['US', 'Special Union Square District'], ['WCh', 'Special West Chelsea District'], ['WP', 'Special Willets Point District']], drop=False, is_fk=True)\n",
      "shortened: Special_Purpose_District\n",
      "prefixes are []\n",
      "table.new_name is special_purpose_district_2\n",
      "[]\n",
      "False\n",
      "Table exists\n",
      "Table Special_Purpose_District_2 was not properly retrieved or created. Perhaps it exists? Skipping for now..\n",
      "table is ColCustomization(short_name='SPDist3', new_name='special_purpose_district_3', dtype='String', synonyms=[], definitions=[['125th', 'Special 125th Street District'], ['BNY', 'Special Brooklyn Navy Yard District'], ['BPC', 'Special Battery Park City District'], ['BR', 'Special Bay Ridge District'], ['BSC', 'Special Bay Street Corridor District'], ['C', 'Special Grand Concourse Preservation District'], ['CD', 'Special City Island District'], ['CI', 'Special Coney Island District'], ['CL', 'Special Clinton District'], ['CO', 'Special Coney Island Mixed Use District'], ['CP', 'Special College Point District'], ['CR - n', 'Special Coastal Risk District, where n is the number of the\\ndistrict'], ['DB', 'Special Downtown Brooklyn District'], ['DFR', 'Special Downtown Far Rockaway District'], ['DJ', 'Special Downtown Jamaica District'], ['EC-n', 'Special Enhanced Commercial District, where n is the\\nnumber of the district'], ['EHC', 'East Harlem Corridors'], ['FH', 'Special Forest Hills District'], ['FW', 'Special Flushing Waterfront District'], ['G', 'Special Gowanus Mixed Use District'], ['GC', 'Special Garment Center District'], ['GI', 'Special Governors Island District'], ['HP', 'Special Hunts Point District'], ['HRP', 'Special Hudson River Park District'], ['HRW', 'Special Harlem River Waterfront District'], ['HS', 'Special Hillsides Preservation District'], ['HSQ', 'Special Hudson Square District'], ['HY', 'Special Hudson Yards District'], ['IN', 'Special Inwood District'], ['J', 'Jerome Corridor District'], ['L', 'Special Lincoln Square District'], ['LC', 'Special Limited Commercial District'], ['LI', 'Special Little Italy District'], ['LIC', 'Special Long Island City Mixed Use District'], ['LM', 'Special Lower Manhattan District'], ['MiD', 'Special Midtown District'], ['MMU', 'Special Manhattanville Mixed Use District'], ['MP', 'Special Madison Avenue Preservation District'], ['MX-n', 'Special Mixed Use District, where n is the number of the\\ndistrict'], ['NA-n', 'Special Natural Area District, where n is the number of the\\ndistrict'], ['NA-4', 'Special Fort Totten Natural Area District-4'], ['OP', 'Special Ocean Parkway District'], ['PC', 'Special Planned Community Preservation District'], ['PI', 'Special Park Improvement District'], ['SB', 'Special Sheepshead Bay District'], ['SG', 'Special St. George District'], ['SHP', 'Special Southern Hunters Point District'], ['SNX', 'Special SoHo-NoHo Mixed Use District'], ['SRD', 'Special South Richmond Development District'], ['SRI', 'Special Southern Roosevelt Island District'], ['SV-1', 'Special Scenic View District'], ['SW', 'Special Stapleton Waterfront District'], ['TA', 'Special Transit Land Use District'], ['TMU', 'Special Tribeca Mixed Use District'], ['U', 'Special United Nations Development District'], ['US', 'Special Union Square District'], ['WCh', 'Special West Chelsea District'], ['WP', 'Special Willets Point District']], drop=False, is_fk=True)\n",
      "shortened: Special_Purpose_District\n",
      "prefixes are []\n",
      "table.new_name is special_purpose_district_3\n",
      "[]\n",
      "False\n",
      "['125th', 'Special 125th Street District']\n",
      "['BNY', 'Special Brooklyn Navy Yard District']\n",
      "['BPC', 'Special Battery Park City District']\n",
      "['BR', 'Special Bay Ridge District']\n",
      "['BSC', 'Special Bay Street Corridor District']\n",
      "['C', 'Special Grand Concourse Preservation District']\n",
      "['CD', 'Special City Island District']\n",
      "['CI', 'Special Coney Island District']\n",
      "['CL', 'Special Clinton District']\n",
      "['CO', 'Special Coney Island Mixed Use District']\n",
      "['CP', 'Special College Point District']\n",
      "['CR - n', 'Special Coastal Risk District, where n is the number of the\\ndistrict']\n",
      "['DB', 'Special Downtown Brooklyn District']\n",
      "['DFR', 'Special Downtown Far Rockaway District']\n",
      "['DJ', 'Special Downtown Jamaica District']\n",
      "['EC-n', 'Special Enhanced Commercial District, where n is the\\nnumber of the district']\n",
      "['EHC', 'East Harlem Corridors']\n",
      "['FH', 'Special Forest Hills District']\n",
      "['FW', 'Special Flushing Waterfront District']\n",
      "['G', 'Special Gowanus Mixed Use District']\n",
      "['GC', 'Special Garment Center District']\n",
      "['GI', 'Special Governors Island District']\n",
      "['HP', 'Special Hunts Point District']\n",
      "['HRP', 'Special Hudson River Park District']\n",
      "['HRW', 'Special Harlem River Waterfront District']\n",
      "['HS', 'Special Hillsides Preservation District']\n",
      "['HSQ', 'Special Hudson Square District']\n",
      "['HY', 'Special Hudson Yards District']\n",
      "['IN', 'Special Inwood District']\n",
      "['J', 'Jerome Corridor District']\n",
      "['L', 'Special Lincoln Square District']\n",
      "['LC', 'Special Limited Commercial District']\n",
      "['LI', 'Special Little Italy District']\n",
      "['LIC', 'Special Long Island City Mixed Use District']\n",
      "['LM', 'Special Lower Manhattan District']\n",
      "['MiD', 'Special Midtown District']\n",
      "['MMU', 'Special Manhattanville Mixed Use District']\n",
      "['MP', 'Special Madison Avenue Preservation District']\n",
      "['MX-n', 'Special Mixed Use District, where n is the number of the\\ndistrict']\n",
      "['NA-n', 'Special Natural Area District, where n is the number of the\\ndistrict']\n",
      "['NA-4', 'Special Fort Totten Natural Area District-4']\n",
      "['OP', 'Special Ocean Parkway District']\n",
      "['PC', 'Special Planned Community Preservation District']\n",
      "['PI', 'Special Park Improvement District']\n",
      "['SB', 'Special Sheepshead Bay District']\n",
      "['SG', 'Special St. George District']\n",
      "['SHP', 'Special Southern Hunters Point District']\n",
      "['SNX', 'Special SoHo-NoHo Mixed Use District']\n",
      "['SRD', 'Special South Richmond Development District']\n",
      "['SRI', 'Special Southern Roosevelt Island District']\n",
      "['SV-1', 'Special Scenic View District']\n",
      "['SW', 'Special Stapleton Waterfront District']\n",
      "['TA', 'Special Transit Land Use District']\n",
      "['TMU', 'Special Tribeca Mixed Use District']\n",
      "['U', 'Special United Nations Development District']\n",
      "['US', 'Special Union Square District']\n",
      "['WCh', 'Special West Chelsea District']\n",
      "['WP', 'Special Willets Point District']\n",
      "table is ColCustomization(short_name='LtdHeight', new_name='limited_height_district', dtype='String', synonyms=[], definitions=[['LH-1', 'Limited Height District No. 1\\n(Gramercy Park/Brooklyn Heights/Cobble Hill)'], ['LH-1A', 'Limited Height District No. 1A (Upper East Side)'], ['LH-2', 'Limited Height District No. 2*'], ['LH-3', 'Limited Height District No. 3*']], drop=False, is_fk=True)\n",
      "shortened: Limited_Height_District\n",
      "prefixes are ['special_purpose_dist']\n",
      "table.new_name is limited_height_district\n",
      "[False]\n",
      "False\n",
      "Table exists\n",
      "Table Limited_Height_District was not properly retrieved or created. Perhaps it exists? Skipping for now..\n",
      "table is ColCustomization(short_name='LandUse', new_name='land_use_category', dtype='String', synonyms=[], definitions=[['01', 'One & Two Family Buildings', 'A*,B*,Z0'], ['02', 'Multi-Family Walk-Up Buildings', 'C0,C1,C2,C3,C4,C5,C6,C8,C9, CM, R1,R2,R3,R6'], ['03', 'Multi-Family Elevator Buildings', 'D0,D1,D2,D3,D4,D5,D8,D9,H6,H7,R4,RD'], ['04', 'Mixed Residential & Commercial Buildings', 'C7,D6,D7,K4,O8,R8,R9,RM,RR,RX,RZ,S*'], ['05', 'Commercial & Office Buildings', 'G8,GU,GW,H1,H2,H3,H4,H5,H9,HB,HH,HR,HS,J*,K1,K2,K3,K5,K6, K7,K8,K9,O1,O2,O3,O4,O5,O6,O7,O9,P1,R5,R7,RB,RC,RH,RI,RK,RS'], ['06', 'Industrial & Manufacturing Buildings', 'E*,F*,L*,RW'], ['07', 'Transportation & Utility', 'G2,G3,G4,G5,G9,T*,U*,Y6,Y7,Y8,Y9'], ['08', 'Public Facilities & Institutions', 'H8,I*,M*,N*,P2,P3,P5,P7,P8,P9,RA,W*,Y1,Y2, Y3,Y4,Z1,Z3,Z4,Z5'], ['09', 'Open Space & Outdoor Recreation', 'P4,P6,Q*,Z8'], ['10', 'Parking Facilities', 'G0,G1,G6,G7,RG,RP,Z2'], ['11', 'Vacant Land', 'V*']], drop=False, is_fk=True)\n",
      "shortened: Land_Use_Category\n",
      "prefixes are ['special_purpose_dist']\n",
      "table.new_name is land_use_category\n",
      "[False]\n",
      "False\n",
      "Table exists\n",
      "Table Land_Use_Category was not properly retrieved or created. Perhaps it exists? Skipping for now..\n",
      "table is ColCustomization(short_name='OwnerType', new_name='type_of_ownership_code', dtype='String', synonyms=[], definitions=[['C', 'City ownership'], ['M', 'Mixed city & private ownership'], ['O', 'Other – owned by either a public authority or the state or federal government'], ['P', 'Private ownership'], ['X', 'Fully tax-exempt property that may be owned by the city, state, or federal government; a public authority; or a private institution']], drop=False, is_fk=True)\n",
      "shortened: Type_Of_Ownership_Code\n",
      "prefixes are ['special_purpose_dist']\n",
      "table.new_name is type_of_ownership_code\n",
      "[False]\n",
      "False\n",
      "Table exists\n",
      "Table Type_Of_Ownership_Code was not properly retrieved or created. Perhaps it exists? Skipping for now..\n",
      "table is ColCustomization(short_name='AreaSource', new_name='total_building_floor_area_source_code', dtype='String', synonyms=[], definitions=[['0', 'Not Available'], ['2', \"Department of Finance's Property Tax System (PTS)\"], ['4', \"BUILDING CLASS starts with 'V' and NUMBER OF BUILDINGS is 0. TOTAL BUILDING FLOOR AREA is 0.\"], ['5', 'Calculated from PTS building dimensions and NUMBER OF FLOORS for primary building only.']], drop=False, is_fk=True)\n",
      "shortened: Total_Building_Floor_Area_Source_Code\n",
      "prefixes are ['special_purpose_dist']\n",
      "table.new_name is total_building_floor_area_source_code\n",
      "[False]\n",
      "False\n",
      "Table exists\n",
      "Table Total_Building_Floor_Area_Source_Code was not properly retrieved or created. Perhaps it exists? Skipping for now..\n",
      "table is ColCustomization(short_name='Ext', new_name='extension_code', dtype='String', synonyms=[], definitions=[['E', 'Extension'], ['G', 'Garage'], ['EG', 'Extension and garage'], ['N', 'None']], drop=False, is_fk=True)\n",
      "shortened: Extension_Code\n",
      "prefixes are ['special_purpose_dist']\n",
      "table.new_name is extension_code\n",
      "[False]\n",
      "False\n",
      "Table exists\n",
      "Table Extension_Code was not properly retrieved or created. Perhaps it exists? Skipping for now..\n",
      "table is ColCustomization(short_name='ProxCode', new_name='proximity_code', dtype='String', synonyms=[], definitions=[['0', 'Not available'], ['1', 'Detached'], ['2', 'Semi-attached']], drop=False, is_fk=True)\n",
      "shortened: Proximity_Code\n",
      "prefixes are ['special_purpose_dist']\n",
      "table.new_name is proximity_code\n",
      "[False]\n",
      "False\n",
      "Table exists\n",
      "Table Proximity_Code was not properly retrieved or created. Perhaps it exists? Skipping for now..\n",
      "table is ColCustomization(short_name='IrrLotCode', new_name='irregular_lot_code', dtype='String', synonyms=[], definitions=[['Y', 'Yes, an irregularly shaped lot'], ['N', 'No, not an irregularly shaped lot']], drop=False, is_fk=True)\n",
      "shortened: Irregular_Lot_Code\n",
      "prefixes are ['special_purpose_dist']\n",
      "table.new_name is irregular_lot_code\n",
      "[False]\n",
      "False\n",
      "Table exists\n",
      "Table Irregular_Lot_Code was not properly retrieved or created. Perhaps it exists? Skipping for now..\n",
      "table is ColCustomization(short_name='LotType', new_name='lot_type', dtype='String', synonyms=[], definitions=[['0', 'Unknown'], ['1', 'Block assemblage – a tax lot that encompasses an entire block'], ['2', 'Waterfront – a tax lot bordering on a body of water. Waterfront lots may contain a small amount of submerged land.'], ['3', 'Corner – a tax lot bordering on two intersecting streets'], ['4', 'Through – a tax lot connecting two streets, with frontage on both streets. Note that a lot with two frontages is not necessarily a through lot. For example, an L-shaped lot with two frontages is considered an inside lot (5).'], ['5', 'Inside – a tax lot with frontage on only one street. This value comes from CAMA, but is only assigned in PLUTO if CAMA has no other lot types for the tax lot.'], ['6', 'Interior lot – a tax lot that has no street frontage'], ['7', 'Island lot – a tax lot that is entirely surrounded by water'], ['8', 'Alley lot – a tax lot that is too narrow to accommodate a building. The lot is usually 12 feet or less in width.']], drop=False, is_fk=True)\n",
      "shortened: Lot_Type\n",
      "prefixes are ['special_purpose_dist']\n",
      "table.new_name is lot_type\n",
      "[False]\n",
      "False\n",
      "Table exists\n",
      "Table Lot_Type was not properly retrieved or created. Perhaps it exists? Skipping for now..\n",
      "table is ColCustomization(short_name='BsmtCode', new_name='basement_type_or_grade', dtype='String', synonyms=[], definitions=[['0', 'None/No Basement'], ['1', 'Above grade full basement – the basement is 75% or more of the area of the first floor and the basement walls are at least 4 feet high on at least two sides'], ['2', 'Below grade full basement – the basement is 75% or more of the area of the first floor and the basement walls are fully submerged or are less than 4 feet on at least three sides'], ['3', 'Above grade partial basement – the basement is between 25% and 75% of the area of the first floor and the basement walls are at least 4 feet high on at least two sides'], ['4', 'Below grade partial basement – the basement is between 25% and 75% of the area of the first floor and the basement walls are fully submerged or are less than 4 feet on at least three sides']], drop=False, is_fk=True)\n",
      "shortened: Basement_Type_Or_Grade\n",
      "prefixes are ['special_purpose_dist']\n",
      "table.new_name is basement_type_or_grade\n",
      "[False]\n",
      "False\n",
      "Table exists\n",
      "Table Basement_Type_Or_Grade was not properly retrieved or created. Perhaps it exists? Skipping for now..\n",
      "table is ColCustomization(short_name='BoroCode', new_name='boro_code', dtype='Float', synonyms=[], definitions=[['1', 'Manhattan'], ['2', 'Bronx'], ['3', 'Brooklyn'], ['4', 'Queens']], drop=False, is_fk=True)\n",
      "shortened: Boro_Code\n",
      "prefixes are ['special_purpose_dist']\n",
      "table.new_name is boro_code\n",
      "[False]\n",
      "False\n",
      "Table exists\n",
      "Table Boro_Code was not properly retrieved or created. Perhaps it exists? Skipping for now..\n",
      "table is ColCustomization(short_name='PLUTOMapID', new_name='pluto_dtm_base_map_indicator', dtype='Float', synonyms=[], definitions=[['1', 'Lot is in PLUTO and both versions of MapPLUTO'], ['2', 'Lot is in PLUTO only.'], ['3', 'Lot is in both versions of MapPLUTO, but not in PLUTO'], ['4', 'Lot is in PLUTO and MapPLUTO (with water areas included), but not in the clipped version of MapPLUTO. Tax lot is completely under water.']], drop=False, is_fk=True)\n",
      "shortened: Pluto_Dtm_Base_Map_Indicator\n",
      "prefixes are ['special_purpose_dist']\n",
      "table.new_name is pluto_dtm_base_map_indicator\n",
      "[False]\n",
      "False\n",
      "Table exists\n",
      "Table Pluto_Dtm_Base_Map_Indicator was not properly retrieved or created. Perhaps it exists? Skipping for now..\n"
     ]
    }
   ],
   "source": [
    "# lookups = [col for col in column_customizations if col.definitions ]\n",
    "# col_customization_dict\n",
    "\n",
    "# lookups = {k:v for k,v in col_customization_dict.items() if k[v].definitions}\n",
    "lookups = {k:v for k,v in col_customization_dict.items() if col_customization_dict[k].definitions}\n",
    "\n",
    "completed_tables = [] # This is for tracking the names of tables that have been created, which will be used to avoid creating redundant tables for columns that are same-kind repeats (such as \"district_1\" and \"district_2\"), and thus will use the same lookups.\n",
    "\n",
    "for name,table in lookups.items():\n",
    "    print('table is', table)\n",
    "    lookup_table_name= re.sub('_[0-9]+$', '', table.new_name.title())\n",
    "    print(\"prefixes are\", completed_tables)\n",
    "    print(\"table.new_name is\", table.new_name)\n",
    "    print([table.new_name.startswith(prefix) for prefix in completed_tables])\n",
    "    print(any([table.new_name.startswith(prefix) for prefix in completed_tables]))\n",
    "    if any([table.new_name.startswith(prefix) for prefix in completed_tables]):\n",
    "    # if table.new_name[0:len(table)*75] in completed_tables:\n",
    "        print(\"Lookup table already created, continuing...\")\n",
    "        continue\n",
    "    with engine.connect() as connection:\n",
    "        lookup_table = create_lookup_table(engine=engine, lookup_table_name=lookup_table_name, text_column_name='name_or_code')\n",
    "        if lookup_table is None:\n",
    "            print(f\"Table {lookup_table_name} was not properly retrieved or created. Perhaps it exists? Skipping for now..\")\n",
    "            continue\n",
    "        for definition in table.definitions:\n",
    "            print(definition)\n",
    "            if len(definition) == 2:\n",
    "                try:\n",
    "                    stmt = insert(lookup_table).values(id=int(definition[0]), name_or_code=definition[1]).on_conflict_do_nothing()\n",
    "                except ValueError:\n",
    "                    stmt = insert(lookup_table).values(name_or_code=definition[0], info=definition[1]).on_conflict_do_nothing()\n",
    "            elif len(definition) == 3:\n",
    "                try:\n",
    "                    stmt = insert(lookup_table).values(id=int(definition[0]), name_or_code=definition[1], info=definition[2]).on_conflict_do_nothing()\n",
    "                except Exception as e:\n",
    "                    print(e)\n",
    "                    print(definition)\n",
    "                    # stmt = insert(lookup_table).values(id=definition[0], name_or_code=definition[1], info=definition[2]).on_conflict_do_nothing()\n",
    "            else:\n",
    "                print(definition)\n",
    "                raise ValueError(\"Was only expecting two or three columns\")\n",
    "            connection.execute(stmt)\n",
    "        connection.commit()\n",
    "    name_prefix = table.new_name[0:round(len(table.new_name)*.75)] # Hopefully this is a safe threshold to identify when columns are repeats of the same type\n",
    "    completed_tables.append(name_prefix)\n"
   ]
  },
  {
   "cell_type": "code",
   "execution_count": 23,
   "metadata": {},
   "outputs": [
    {
     "data": {
      "text/plain": [
       "{'borough': ColCustomization(short_name='Borough', new_name='borough', dtype='String', synonyms=[], definitions=[['BX', 'Bronx'], ['BK', 'Brooklyn'], ['MN', 'Manhattan'], ['QN', 'Queens']], drop=False, is_fk=True),\n",
       " 'sanitation_district_boro': ColCustomization(short_name='SanitBoro', new_name='sanitation_district_boro', dtype='Float', synonyms=[], definitions=[['1', 'Manhattan'], ['2', 'Bronx'], ['3', 'Brooklyn'], ['4', 'Queens']], drop=False, is_fk=True),\n",
       " 'special_purpose_district_1': ColCustomization(short_name='SPDist1', new_name='special_purpose_district_1', dtype='String', synonyms=[], definitions=[['125th', 'Special 125th Street District'], ['BNY', 'Special Brooklyn Navy Yard District'], ['BPC', 'Special Battery Park City District'], ['BR', 'Special Bay Ridge District'], ['BSC', 'Special Bay Street Corridor District'], ['C', 'Special Grand Concourse Preservation District'], ['CD', 'Special City Island District'], ['CI', 'Special Coney Island District'], ['CL', 'Special Clinton District'], ['CO', 'Special Coney Island Mixed Use District'], ['CP', 'Special College Point District'], ['CR - n', 'Special Coastal Risk District, where n is the number of the\\ndistrict'], ['DB', 'Special Downtown Brooklyn District'], ['DFR', 'Special Downtown Far Rockaway District'], ['DJ', 'Special Downtown Jamaica District'], ['EC-n', 'Special Enhanced Commercial District, where n is the\\nnumber of the district'], ['EHC', 'East Harlem Corridors'], ['FH', 'Special Forest Hills District'], ['FW', 'Special Flushing Waterfront District'], ['G', 'Special Gowanus Mixed Use District'], ['GC', 'Special Garment Center District'], ['GI', 'Special Governors Island District'], ['HP', 'Special Hunts Point District'], ['HRP', 'Special Hudson River Park District'], ['HRW', 'Special Harlem River Waterfront District'], ['HS', 'Special Hillsides Preservation District'], ['HSQ', 'Special Hudson Square District'], ['HY', 'Special Hudson Yards District'], ['IN', 'Special Inwood District'], ['J', 'Jerome Corridor District'], ['L', 'Special Lincoln Square District'], ['LC', 'Special Limited Commercial District'], ['LI', 'Special Little Italy District'], ['LIC', 'Special Long Island City Mixed Use District'], ['LM', 'Special Lower Manhattan District'], ['MiD', 'Special Midtown District'], ['MMU', 'Special Manhattanville Mixed Use District'], ['MP', 'Special Madison Avenue Preservation District'], ['MX-n', 'Special Mixed Use District, where n is the number of the\\ndistrict'], ['NA-n', 'Special Natural Area District, where n is the number of the\\ndistrict'], ['NA-4', 'Special Fort Totten Natural Area District-4'], ['OP', 'Special Ocean Parkway District'], ['PC', 'Special Planned Community Preservation District'], ['PI', 'Special Park Improvement District'], ['SB', 'Special Sheepshead Bay District'], ['SG', 'Special St. George District'], ['SHP', 'Special Southern Hunters Point District'], ['SNX', 'Special SoHo-NoHo Mixed Use District'], ['SRD', 'Special South Richmond Development District'], ['SRI', 'Special Southern Roosevelt Island District'], ['SV-1', 'Special Scenic View District'], ['SW', 'Special Stapleton Waterfront District'], ['TA', 'Special Transit Land Use District'], ['TMU', 'Special Tribeca Mixed Use District'], ['U', 'Special United Nations Development District'], ['US', 'Special Union Square District'], ['WCh', 'Special West Chelsea District'], ['WP', 'Special Willets Point District']], drop=False, is_fk=True),\n",
       " 'special_purpose_district_2': ColCustomization(short_name='SPDist2', new_name='special_purpose_district_2', dtype='String', synonyms=[], definitions=[['125th', 'Special 125th Street District'], ['BNY', 'Special Brooklyn Navy Yard District'], ['BPC', 'Special Battery Park City District'], ['BR', 'Special Bay Ridge District'], ['BSC', 'Special Bay Street Corridor District'], ['C', 'Special Grand Concourse Preservation District'], ['CD', 'Special City Island District'], ['CI', 'Special Coney Island District'], ['CL', 'Special Clinton District'], ['CO', 'Special Coney Island Mixed Use District'], ['CP', 'Special College Point District'], ['CR - n', 'Special Coastal Risk District, where n is the number of the\\ndistrict'], ['DB', 'Special Downtown Brooklyn District'], ['DFR', 'Special Downtown Far Rockaway District'], ['DJ', 'Special Downtown Jamaica District'], ['EC-n', 'Special Enhanced Commercial District, where n is the\\nnumber of the district'], ['EHC', 'East Harlem Corridors'], ['FH', 'Special Forest Hills District'], ['FW', 'Special Flushing Waterfront District'], ['G', 'Special Gowanus Mixed Use District'], ['GC', 'Special Garment Center District'], ['GI', 'Special Governors Island District'], ['HP', 'Special Hunts Point District'], ['HRP', 'Special Hudson River Park District'], ['HRW', 'Special Harlem River Waterfront District'], ['HS', 'Special Hillsides Preservation District'], ['HSQ', 'Special Hudson Square District'], ['HY', 'Special Hudson Yards District'], ['IN', 'Special Inwood District'], ['J', 'Jerome Corridor District'], ['L', 'Special Lincoln Square District'], ['LC', 'Special Limited Commercial District'], ['LI', 'Special Little Italy District'], ['LIC', 'Special Long Island City Mixed Use District'], ['LM', 'Special Lower Manhattan District'], ['MiD', 'Special Midtown District'], ['MMU', 'Special Manhattanville Mixed Use District'], ['MP', 'Special Madison Avenue Preservation District'], ['MX-n', 'Special Mixed Use District, where n is the number of the\\ndistrict'], ['NA-n', 'Special Natural Area District, where n is the number of the\\ndistrict'], ['NA-4', 'Special Fort Totten Natural Area District-4'], ['OP', 'Special Ocean Parkway District'], ['PC', 'Special Planned Community Preservation District'], ['PI', 'Special Park Improvement District'], ['SB', 'Special Sheepshead Bay District'], ['SG', 'Special St. George District'], ['SHP', 'Special Southern Hunters Point District'], ['SNX', 'Special SoHo-NoHo Mixed Use District'], ['SRD', 'Special South Richmond Development District'], ['SRI', 'Special Southern Roosevelt Island District'], ['SV-1', 'Special Scenic View District'], ['SW', 'Special Stapleton Waterfront District'], ['TA', 'Special Transit Land Use District'], ['TMU', 'Special Tribeca Mixed Use District'], ['U', 'Special United Nations Development District'], ['US', 'Special Union Square District'], ['WCh', 'Special West Chelsea District'], ['WP', 'Special Willets Point District']], drop=False, is_fk=True),\n",
       " 'special_purpose_district_3': ColCustomization(short_name='SPDist3', new_name='special_purpose_district_3', dtype='String', synonyms=[], definitions=[['125th', 'Special 125th Street District'], ['BNY', 'Special Brooklyn Navy Yard District'], ['BPC', 'Special Battery Park City District'], ['BR', 'Special Bay Ridge District'], ['BSC', 'Special Bay Street Corridor District'], ['C', 'Special Grand Concourse Preservation District'], ['CD', 'Special City Island District'], ['CI', 'Special Coney Island District'], ['CL', 'Special Clinton District'], ['CO', 'Special Coney Island Mixed Use District'], ['CP', 'Special College Point District'], ['CR - n', 'Special Coastal Risk District, where n is the number of the\\ndistrict'], ['DB', 'Special Downtown Brooklyn District'], ['DFR', 'Special Downtown Far Rockaway District'], ['DJ', 'Special Downtown Jamaica District'], ['EC-n', 'Special Enhanced Commercial District, where n is the\\nnumber of the district'], ['EHC', 'East Harlem Corridors'], ['FH', 'Special Forest Hills District'], ['FW', 'Special Flushing Waterfront District'], ['G', 'Special Gowanus Mixed Use District'], ['GC', 'Special Garment Center District'], ['GI', 'Special Governors Island District'], ['HP', 'Special Hunts Point District'], ['HRP', 'Special Hudson River Park District'], ['HRW', 'Special Harlem River Waterfront District'], ['HS', 'Special Hillsides Preservation District'], ['HSQ', 'Special Hudson Square District'], ['HY', 'Special Hudson Yards District'], ['IN', 'Special Inwood District'], ['J', 'Jerome Corridor District'], ['L', 'Special Lincoln Square District'], ['LC', 'Special Limited Commercial District'], ['LI', 'Special Little Italy District'], ['LIC', 'Special Long Island City Mixed Use District'], ['LM', 'Special Lower Manhattan District'], ['MiD', 'Special Midtown District'], ['MMU', 'Special Manhattanville Mixed Use District'], ['MP', 'Special Madison Avenue Preservation District'], ['MX-n', 'Special Mixed Use District, where n is the number of the\\ndistrict'], ['NA-n', 'Special Natural Area District, where n is the number of the\\ndistrict'], ['NA-4', 'Special Fort Totten Natural Area District-4'], ['OP', 'Special Ocean Parkway District'], ['PC', 'Special Planned Community Preservation District'], ['PI', 'Special Park Improvement District'], ['SB', 'Special Sheepshead Bay District'], ['SG', 'Special St. George District'], ['SHP', 'Special Southern Hunters Point District'], ['SNX', 'Special SoHo-NoHo Mixed Use District'], ['SRD', 'Special South Richmond Development District'], ['SRI', 'Special Southern Roosevelt Island District'], ['SV-1', 'Special Scenic View District'], ['SW', 'Special Stapleton Waterfront District'], ['TA', 'Special Transit Land Use District'], ['TMU', 'Special Tribeca Mixed Use District'], ['U', 'Special United Nations Development District'], ['US', 'Special Union Square District'], ['WCh', 'Special West Chelsea District'], ['WP', 'Special Willets Point District']], drop=False, is_fk=True),\n",
       " 'limited_height_district': ColCustomization(short_name='LtdHeight', new_name='limited_height_district', dtype='String', synonyms=[], definitions=[['LH-1', 'Limited Height District No. 1\\n(Gramercy Park/Brooklyn Heights/Cobble Hill)'], ['LH-1A', 'Limited Height District No. 1A (Upper East Side)'], ['LH-2', 'Limited Height District No. 2*'], ['LH-3', 'Limited Height District No. 3*']], drop=False, is_fk=True),\n",
       " 'land_use_category': ColCustomization(short_name='LandUse', new_name='land_use_category', dtype='String', synonyms=[], definitions=[['01', 'One & Two Family Buildings', 'A*,B*,Z0'], ['02', 'Multi-Family Walk-Up Buildings', 'C0,C1,C2,C3,C4,C5,C6,C8,C9, CM, R1,R2,R3,R6'], ['03', 'Multi-Family Elevator Buildings', 'D0,D1,D2,D3,D4,D5,D8,D9,H6,H7,R4,RD'], ['04', 'Mixed Residential & Commercial Buildings', 'C7,D6,D7,K4,O8,R8,R9,RM,RR,RX,RZ,S*'], ['05', 'Commercial & Office Buildings', 'G8,GU,GW,H1,H2,H3,H4,H5,H9,HB,HH,HR,HS,J*,K1,K2,K3,K5,K6, K7,K8,K9,O1,O2,O3,O4,O5,O6,O7,O9,P1,R5,R7,RB,RC,RH,RI,RK,RS'], ['06', 'Industrial & Manufacturing Buildings', 'E*,F*,L*,RW'], ['07', 'Transportation & Utility', 'G2,G3,G4,G5,G9,T*,U*,Y6,Y7,Y8,Y9'], ['08', 'Public Facilities & Institutions', 'H8,I*,M*,N*,P2,P3,P5,P7,P8,P9,RA,W*,Y1,Y2, Y3,Y4,Z1,Z3,Z4,Z5'], ['09', 'Open Space & Outdoor Recreation', 'P4,P6,Q*,Z8'], ['10', 'Parking Facilities', 'G0,G1,G6,G7,RG,RP,Z2'], ['11', 'Vacant Land', 'V*']], drop=False, is_fk=True),\n",
       " 'type_of_ownership_code': ColCustomization(short_name='OwnerType', new_name='type_of_ownership_code', dtype='String', synonyms=[], definitions=[['C', 'City ownership'], ['M', 'Mixed city & private ownership'], ['O', 'Other – owned by either a public authority or the state or federal government'], ['P', 'Private ownership'], ['X', 'Fully tax-exempt property that may be owned by the city, state, or federal government; a public authority; or a private institution']], drop=False, is_fk=True),\n",
       " 'total_building_floor_area_source_code': ColCustomization(short_name='AreaSource', new_name='total_building_floor_area_source_code', dtype='String', synonyms=[], definitions=[['0', 'Not Available'], ['2', \"Department of Finance's Property Tax System (PTS)\"], ['4', \"BUILDING CLASS starts with 'V' and NUMBER OF BUILDINGS is 0. TOTAL BUILDING FLOOR AREA is 0.\"], ['5', 'Calculated from PTS building dimensions and NUMBER OF FLOORS for primary building only.']], drop=False, is_fk=True),\n",
       " 'extension_code': ColCustomization(short_name='Ext', new_name='extension_code', dtype='String', synonyms=[], definitions=[['E', 'Extension'], ['G', 'Garage'], ['EG', 'Extension and garage'], ['N', 'None']], drop=False, is_fk=True),\n",
       " 'proximity_code': ColCustomization(short_name='ProxCode', new_name='proximity_code', dtype='String', synonyms=[], definitions=[['0', 'Not available'], ['1', 'Detached'], ['2', 'Semi-attached']], drop=False, is_fk=True),\n",
       " 'irregular_lot_code': ColCustomization(short_name='IrrLotCode', new_name='irregular_lot_code', dtype='String', synonyms=[], definitions=[['Y', 'Yes, an irregularly shaped lot'], ['N', 'No, not an irregularly shaped lot']], drop=False, is_fk=True),\n",
       " 'lot_type': ColCustomization(short_name='LotType', new_name='lot_type', dtype='String', synonyms=[], definitions=[['0', 'Unknown'], ['1', 'Block assemblage – a tax lot that encompasses an entire block'], ['2', 'Waterfront – a tax lot bordering on a body of water. Waterfront lots may contain a small amount of submerged land.'], ['3', 'Corner – a tax lot bordering on two intersecting streets'], ['4', 'Through – a tax lot connecting two streets, with frontage on both streets. Note that a lot with two frontages is not necessarily a through lot. For example, an L-shaped lot with two frontages is considered an inside lot (5).'], ['5', 'Inside – a tax lot with frontage on only one street. This value comes from CAMA, but is only assigned in PLUTO if CAMA has no other lot types for the tax lot.'], ['6', 'Interior lot – a tax lot that has no street frontage'], ['7', 'Island lot – a tax lot that is entirely surrounded by water'], ['8', 'Alley lot – a tax lot that is too narrow to accommodate a building. The lot is usually 12 feet or less in width.']], drop=False, is_fk=True),\n",
       " 'basement_type_or_grade': ColCustomization(short_name='BsmtCode', new_name='basement_type_or_grade', dtype='String', synonyms=[], definitions=[['0', 'None/No Basement'], ['1', 'Above grade full basement – the basement is 75% or more of the area of the first floor and the basement walls are at least 4 feet high on at least two sides'], ['2', 'Below grade full basement – the basement is 75% or more of the area of the first floor and the basement walls are fully submerged or are less than 4 feet on at least three sides'], ['3', 'Above grade partial basement – the basement is between 25% and 75% of the area of the first floor and the basement walls are at least 4 feet high on at least two sides'], ['4', 'Below grade partial basement – the basement is between 25% and 75% of the area of the first floor and the basement walls are fully submerged or are less than 4 feet on at least three sides']], drop=False, is_fk=True),\n",
       " 'boro_code': ColCustomization(short_name='BoroCode', new_name='boro_code', dtype='Float', synonyms=[], definitions=[['1', 'Manhattan'], ['2', 'Bronx'], ['3', 'Brooklyn'], ['4', 'Queens']], drop=False, is_fk=True),\n",
       " 'pluto_dtm_base_map_indicator': ColCustomization(short_name='PLUTOMapID', new_name='pluto_dtm_base_map_indicator', dtype='Float', synonyms=[], definitions=[['1', 'Lot is in PLUTO and both versions of MapPLUTO'], ['2', 'Lot is in PLUTO only.'], ['3', 'Lot is in both versions of MapPLUTO, but not in PLUTO'], ['4', 'Lot is in PLUTO and MapPLUTO (with water areas included), but not in the clipped version of MapPLUTO. Tax lot is completely under water.']], drop=False, is_fk=True)}"
      ]
     },
     "execution_count": 23,
     "metadata": {},
     "output_type": "execute_result"
    }
   ],
   "source": [
    "lookups"
   ]
  },
  {
   "cell_type": "code",
   "execution_count": 24,
   "metadata": {},
   "outputs": [
    {
     "data": {
      "text/plain": [
       "{'borough': ColCustomization(short_name='Borough', new_name='borough', dtype='String', synonyms=[], definitions=[['BX', 'Bronx'], ['BK', 'Brooklyn'], ['MN', 'Manhattan'], ['QN', 'Queens']], drop=False, is_fk=True),\n",
       " 'sanitation_district_boro': ColCustomization(short_name='SanitBoro', new_name='sanitation_district_boro', dtype='Float', synonyms=[], definitions=[['1', 'Manhattan'], ['2', 'Bronx'], ['3', 'Brooklyn'], ['4', 'Queens']], drop=False, is_fk=True),\n",
       " 'special_purpose_district_1': ColCustomization(short_name='SPDist1', new_name='special_purpose_district_1', dtype='String', synonyms=[], definitions=[['125th', 'Special 125th Street District'], ['BNY', 'Special Brooklyn Navy Yard District'], ['BPC', 'Special Battery Park City District'], ['BR', 'Special Bay Ridge District'], ['BSC', 'Special Bay Street Corridor District'], ['C', 'Special Grand Concourse Preservation District'], ['CD', 'Special City Island District'], ['CI', 'Special Coney Island District'], ['CL', 'Special Clinton District'], ['CO', 'Special Coney Island Mixed Use District'], ['CP', 'Special College Point District'], ['CR - n', 'Special Coastal Risk District, where n is the number of the\\ndistrict'], ['DB', 'Special Downtown Brooklyn District'], ['DFR', 'Special Downtown Far Rockaway District'], ['DJ', 'Special Downtown Jamaica District'], ['EC-n', 'Special Enhanced Commercial District, where n is the\\nnumber of the district'], ['EHC', 'East Harlem Corridors'], ['FH', 'Special Forest Hills District'], ['FW', 'Special Flushing Waterfront District'], ['G', 'Special Gowanus Mixed Use District'], ['GC', 'Special Garment Center District'], ['GI', 'Special Governors Island District'], ['HP', 'Special Hunts Point District'], ['HRP', 'Special Hudson River Park District'], ['HRW', 'Special Harlem River Waterfront District'], ['HS', 'Special Hillsides Preservation District'], ['HSQ', 'Special Hudson Square District'], ['HY', 'Special Hudson Yards District'], ['IN', 'Special Inwood District'], ['J', 'Jerome Corridor District'], ['L', 'Special Lincoln Square District'], ['LC', 'Special Limited Commercial District'], ['LI', 'Special Little Italy District'], ['LIC', 'Special Long Island City Mixed Use District'], ['LM', 'Special Lower Manhattan District'], ['MiD', 'Special Midtown District'], ['MMU', 'Special Manhattanville Mixed Use District'], ['MP', 'Special Madison Avenue Preservation District'], ['MX-n', 'Special Mixed Use District, where n is the number of the\\ndistrict'], ['NA-n', 'Special Natural Area District, where n is the number of the\\ndistrict'], ['NA-4', 'Special Fort Totten Natural Area District-4'], ['OP', 'Special Ocean Parkway District'], ['PC', 'Special Planned Community Preservation District'], ['PI', 'Special Park Improvement District'], ['SB', 'Special Sheepshead Bay District'], ['SG', 'Special St. George District'], ['SHP', 'Special Southern Hunters Point District'], ['SNX', 'Special SoHo-NoHo Mixed Use District'], ['SRD', 'Special South Richmond Development District'], ['SRI', 'Special Southern Roosevelt Island District'], ['SV-1', 'Special Scenic View District'], ['SW', 'Special Stapleton Waterfront District'], ['TA', 'Special Transit Land Use District'], ['TMU', 'Special Tribeca Mixed Use District'], ['U', 'Special United Nations Development District'], ['US', 'Special Union Square District'], ['WCh', 'Special West Chelsea District'], ['WP', 'Special Willets Point District']], drop=False, is_fk=True),\n",
       " 'special_purpose_district_2': ColCustomization(short_name='SPDist2', new_name='special_purpose_district_2', dtype='String', synonyms=[], definitions=[['125th', 'Special 125th Street District'], ['BNY', 'Special Brooklyn Navy Yard District'], ['BPC', 'Special Battery Park City District'], ['BR', 'Special Bay Ridge District'], ['BSC', 'Special Bay Street Corridor District'], ['C', 'Special Grand Concourse Preservation District'], ['CD', 'Special City Island District'], ['CI', 'Special Coney Island District'], ['CL', 'Special Clinton District'], ['CO', 'Special Coney Island Mixed Use District'], ['CP', 'Special College Point District'], ['CR - n', 'Special Coastal Risk District, where n is the number of the\\ndistrict'], ['DB', 'Special Downtown Brooklyn District'], ['DFR', 'Special Downtown Far Rockaway District'], ['DJ', 'Special Downtown Jamaica District'], ['EC-n', 'Special Enhanced Commercial District, where n is the\\nnumber of the district'], ['EHC', 'East Harlem Corridors'], ['FH', 'Special Forest Hills District'], ['FW', 'Special Flushing Waterfront District'], ['G', 'Special Gowanus Mixed Use District'], ['GC', 'Special Garment Center District'], ['GI', 'Special Governors Island District'], ['HP', 'Special Hunts Point District'], ['HRP', 'Special Hudson River Park District'], ['HRW', 'Special Harlem River Waterfront District'], ['HS', 'Special Hillsides Preservation District'], ['HSQ', 'Special Hudson Square District'], ['HY', 'Special Hudson Yards District'], ['IN', 'Special Inwood District'], ['J', 'Jerome Corridor District'], ['L', 'Special Lincoln Square District'], ['LC', 'Special Limited Commercial District'], ['LI', 'Special Little Italy District'], ['LIC', 'Special Long Island City Mixed Use District'], ['LM', 'Special Lower Manhattan District'], ['MiD', 'Special Midtown District'], ['MMU', 'Special Manhattanville Mixed Use District'], ['MP', 'Special Madison Avenue Preservation District'], ['MX-n', 'Special Mixed Use District, where n is the number of the\\ndistrict'], ['NA-n', 'Special Natural Area District, where n is the number of the\\ndistrict'], ['NA-4', 'Special Fort Totten Natural Area District-4'], ['OP', 'Special Ocean Parkway District'], ['PC', 'Special Planned Community Preservation District'], ['PI', 'Special Park Improvement District'], ['SB', 'Special Sheepshead Bay District'], ['SG', 'Special St. George District'], ['SHP', 'Special Southern Hunters Point District'], ['SNX', 'Special SoHo-NoHo Mixed Use District'], ['SRD', 'Special South Richmond Development District'], ['SRI', 'Special Southern Roosevelt Island District'], ['SV-1', 'Special Scenic View District'], ['SW', 'Special Stapleton Waterfront District'], ['TA', 'Special Transit Land Use District'], ['TMU', 'Special Tribeca Mixed Use District'], ['U', 'Special United Nations Development District'], ['US', 'Special Union Square District'], ['WCh', 'Special West Chelsea District'], ['WP', 'Special Willets Point District']], drop=False, is_fk=True),\n",
       " 'special_purpose_district_3': ColCustomization(short_name='SPDist3', new_name='special_purpose_district_3', dtype='String', synonyms=[], definitions=[['125th', 'Special 125th Street District'], ['BNY', 'Special Brooklyn Navy Yard District'], ['BPC', 'Special Battery Park City District'], ['BR', 'Special Bay Ridge District'], ['BSC', 'Special Bay Street Corridor District'], ['C', 'Special Grand Concourse Preservation District'], ['CD', 'Special City Island District'], ['CI', 'Special Coney Island District'], ['CL', 'Special Clinton District'], ['CO', 'Special Coney Island Mixed Use District'], ['CP', 'Special College Point District'], ['CR - n', 'Special Coastal Risk District, where n is the number of the\\ndistrict'], ['DB', 'Special Downtown Brooklyn District'], ['DFR', 'Special Downtown Far Rockaway District'], ['DJ', 'Special Downtown Jamaica District'], ['EC-n', 'Special Enhanced Commercial District, where n is the\\nnumber of the district'], ['EHC', 'East Harlem Corridors'], ['FH', 'Special Forest Hills District'], ['FW', 'Special Flushing Waterfront District'], ['G', 'Special Gowanus Mixed Use District'], ['GC', 'Special Garment Center District'], ['GI', 'Special Governors Island District'], ['HP', 'Special Hunts Point District'], ['HRP', 'Special Hudson River Park District'], ['HRW', 'Special Harlem River Waterfront District'], ['HS', 'Special Hillsides Preservation District'], ['HSQ', 'Special Hudson Square District'], ['HY', 'Special Hudson Yards District'], ['IN', 'Special Inwood District'], ['J', 'Jerome Corridor District'], ['L', 'Special Lincoln Square District'], ['LC', 'Special Limited Commercial District'], ['LI', 'Special Little Italy District'], ['LIC', 'Special Long Island City Mixed Use District'], ['LM', 'Special Lower Manhattan District'], ['MiD', 'Special Midtown District'], ['MMU', 'Special Manhattanville Mixed Use District'], ['MP', 'Special Madison Avenue Preservation District'], ['MX-n', 'Special Mixed Use District, where n is the number of the\\ndistrict'], ['NA-n', 'Special Natural Area District, where n is the number of the\\ndistrict'], ['NA-4', 'Special Fort Totten Natural Area District-4'], ['OP', 'Special Ocean Parkway District'], ['PC', 'Special Planned Community Preservation District'], ['PI', 'Special Park Improvement District'], ['SB', 'Special Sheepshead Bay District'], ['SG', 'Special St. George District'], ['SHP', 'Special Southern Hunters Point District'], ['SNX', 'Special SoHo-NoHo Mixed Use District'], ['SRD', 'Special South Richmond Development District'], ['SRI', 'Special Southern Roosevelt Island District'], ['SV-1', 'Special Scenic View District'], ['SW', 'Special Stapleton Waterfront District'], ['TA', 'Special Transit Land Use District'], ['TMU', 'Special Tribeca Mixed Use District'], ['U', 'Special United Nations Development District'], ['US', 'Special Union Square District'], ['WCh', 'Special West Chelsea District'], ['WP', 'Special Willets Point District']], drop=False, is_fk=True),\n",
       " 'limited_height_district': ColCustomization(short_name='LtdHeight', new_name='limited_height_district', dtype='String', synonyms=[], definitions=[['LH-1', 'Limited Height District No. 1\\n(Gramercy Park/Brooklyn Heights/Cobble Hill)'], ['LH-1A', 'Limited Height District No. 1A (Upper East Side)'], ['LH-2', 'Limited Height District No. 2*'], ['LH-3', 'Limited Height District No. 3*']], drop=False, is_fk=True),\n",
       " 'land_use_category': ColCustomization(short_name='LandUse', new_name='land_use_category', dtype='String', synonyms=[], definitions=[['01', 'One & Two Family Buildings', 'A*,B*,Z0'], ['02', 'Multi-Family Walk-Up Buildings', 'C0,C1,C2,C3,C4,C5,C6,C8,C9, CM, R1,R2,R3,R6'], ['03', 'Multi-Family Elevator Buildings', 'D0,D1,D2,D3,D4,D5,D8,D9,H6,H7,R4,RD'], ['04', 'Mixed Residential & Commercial Buildings', 'C7,D6,D7,K4,O8,R8,R9,RM,RR,RX,RZ,S*'], ['05', 'Commercial & Office Buildings', 'G8,GU,GW,H1,H2,H3,H4,H5,H9,HB,HH,HR,HS,J*,K1,K2,K3,K5,K6, K7,K8,K9,O1,O2,O3,O4,O5,O6,O7,O9,P1,R5,R7,RB,RC,RH,RI,RK,RS'], ['06', 'Industrial & Manufacturing Buildings', 'E*,F*,L*,RW'], ['07', 'Transportation & Utility', 'G2,G3,G4,G5,G9,T*,U*,Y6,Y7,Y8,Y9'], ['08', 'Public Facilities & Institutions', 'H8,I*,M*,N*,P2,P3,P5,P7,P8,P9,RA,W*,Y1,Y2, Y3,Y4,Z1,Z3,Z4,Z5'], ['09', 'Open Space & Outdoor Recreation', 'P4,P6,Q*,Z8'], ['10', 'Parking Facilities', 'G0,G1,G6,G7,RG,RP,Z2'], ['11', 'Vacant Land', 'V*']], drop=False, is_fk=True),\n",
       " 'type_of_ownership_code': ColCustomization(short_name='OwnerType', new_name='type_of_ownership_code', dtype='String', synonyms=[], definitions=[['C', 'City ownership'], ['M', 'Mixed city & private ownership'], ['O', 'Other – owned by either a public authority or the state or federal government'], ['P', 'Private ownership'], ['X', 'Fully tax-exempt property that may be owned by the city, state, or federal government; a public authority; or a private institution']], drop=False, is_fk=True),\n",
       " 'total_building_floor_area_source_code': ColCustomization(short_name='AreaSource', new_name='total_building_floor_area_source_code', dtype='String', synonyms=[], definitions=[['0', 'Not Available'], ['2', \"Department of Finance's Property Tax System (PTS)\"], ['4', \"BUILDING CLASS starts with 'V' and NUMBER OF BUILDINGS is 0. TOTAL BUILDING FLOOR AREA is 0.\"], ['5', 'Calculated from PTS building dimensions and NUMBER OF FLOORS for primary building only.']], drop=False, is_fk=True),\n",
       " 'extension_code': ColCustomization(short_name='Ext', new_name='extension_code', dtype='String', synonyms=[], definitions=[['E', 'Extension'], ['G', 'Garage'], ['EG', 'Extension and garage'], ['N', 'None']], drop=False, is_fk=True),\n",
       " 'proximity_code': ColCustomization(short_name='ProxCode', new_name='proximity_code', dtype='String', synonyms=[], definitions=[['0', 'Not available'], ['1', 'Detached'], ['2', 'Semi-attached']], drop=False, is_fk=True),\n",
       " 'irregular_lot_code': ColCustomization(short_name='IrrLotCode', new_name='irregular_lot_code', dtype='String', synonyms=[], definitions=[['Y', 'Yes, an irregularly shaped lot'], ['N', 'No, not an irregularly shaped lot']], drop=False, is_fk=True),\n",
       " 'lot_type': ColCustomization(short_name='LotType', new_name='lot_type', dtype='String', synonyms=[], definitions=[['0', 'Unknown'], ['1', 'Block assemblage – a tax lot that encompasses an entire block'], ['2', 'Waterfront – a tax lot bordering on a body of water. Waterfront lots may contain a small amount of submerged land.'], ['3', 'Corner – a tax lot bordering on two intersecting streets'], ['4', 'Through – a tax lot connecting two streets, with frontage on both streets. Note that a lot with two frontages is not necessarily a through lot. For example, an L-shaped lot with two frontages is considered an inside lot (5).'], ['5', 'Inside – a tax lot with frontage on only one street. This value comes from CAMA, but is only assigned in PLUTO if CAMA has no other lot types for the tax lot.'], ['6', 'Interior lot – a tax lot that has no street frontage'], ['7', 'Island lot – a tax lot that is entirely surrounded by water'], ['8', 'Alley lot – a tax lot that is too narrow to accommodate a building. The lot is usually 12 feet or less in width.']], drop=False, is_fk=True),\n",
       " 'basement_type_or_grade': ColCustomization(short_name='BsmtCode', new_name='basement_type_or_grade', dtype='String', synonyms=[], definitions=[['0', 'None/No Basement'], ['1', 'Above grade full basement – the basement is 75% or more of the area of the first floor and the basement walls are at least 4 feet high on at least two sides'], ['2', 'Below grade full basement – the basement is 75% or more of the area of the first floor and the basement walls are fully submerged or are less than 4 feet on at least three sides'], ['3', 'Above grade partial basement – the basement is between 25% and 75% of the area of the first floor and the basement walls are at least 4 feet high on at least two sides'], ['4', 'Below grade partial basement – the basement is between 25% and 75% of the area of the first floor and the basement walls are fully submerged or are less than 4 feet on at least three sides']], drop=False, is_fk=True),\n",
       " 'boro_code': ColCustomization(short_name='BoroCode', new_name='boro_code', dtype='Float', synonyms=[], definitions=[['1', 'Manhattan'], ['2', 'Bronx'], ['3', 'Brooklyn'], ['4', 'Queens']], drop=False, is_fk=True),\n",
       " 'pluto_dtm_base_map_indicator': ColCustomization(short_name='PLUTOMapID', new_name='pluto_dtm_base_map_indicator', dtype='Float', synonyms=[], definitions=[['1', 'Lot is in PLUTO and both versions of MapPLUTO'], ['2', 'Lot is in PLUTO only.'], ['3', 'Lot is in both versions of MapPLUTO, but not in PLUTO'], ['4', 'Lot is in PLUTO and MapPLUTO (with water areas included), but not in the clipped version of MapPLUTO. Tax lot is completely under water.']], drop=False, is_fk=True)}"
      ]
     },
     "execution_count": 24,
     "metadata": {},
     "output_type": "execute_result"
    }
   ],
   "source": [
    "{k:v for k,v in col_customization_dict.items() if col_customization_dict[k].definitions}"
   ]
  },
  {
   "cell_type": "code",
   "execution_count": null,
   "metadata": {},
   "outputs": [],
   "source": []
  }
 ],
 "metadata": {
  "kernelspec": {
   "display_name": "gpd_testing",
   "language": "python",
   "name": "python3"
  },
  "language_info": {
   "codemirror_mode": {
    "name": "ipython",
    "version": 3
   },
   "file_extension": ".py",
   "mimetype": "text/x-python",
   "name": "python",
   "nbconvert_exporter": "python",
   "pygments_lexer": "ipython3",
   "version": "3.13.1"
  }
 },
 "nbformat": 4,
 "nbformat_minor": 2
}
