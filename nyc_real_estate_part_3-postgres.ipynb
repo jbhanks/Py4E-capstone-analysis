{
 "cells": [
  {
   "cell_type": "code",
   "execution_count": null,
   "id": "568b0fd5",
   "metadata": {},
   "outputs": [],
   "source": [
    "# # Import standard libraries\n",
    "import os\n",
    "import subprocess\n",
    "import re\n",
    "import json\n",
    "import codecs\n",
    "import time\n",
    "import dill\n",
    "time.sleep(3)\n",
    "from urllib.request import urlopen\n",
    "import pandas as pd\n",
    "from sqlalchemy import create_engine, Column, Integer, String, Date, MetaData, event, Table, text, LargeBinary, ForeignKey\n",
    "from sqlalchemy.orm import sessionmaker\n",
    "from src.helpers import *\n",
    "from src.dbutils import *\n",
    "from src.ORMutils import *\n",
    "from src.models import *\n",
    "from src.geo import *\n",
    "from src.pdfutils import *"
   ]
  },
  {
   "cell_type": "markdown",
   "id": "7d01f2ec",
   "metadata": {},
   "source": [
    "* #### Load the objects created in previous notebooks"
   ]
  },
  {
   "cell_type": "code",
   "execution_count": null,
   "id": "60e85c05",
   "metadata": {},
   "outputs": [],
   "source": [
    "# Load the environment\n",
    "with open(\"environment_data/table_dicts.pkl\", \"rb\") as f:\n",
    "    env = dill.load(f)\n",
    "\n",
    "# Restore the environment\n",
    "globals().update(env)"
   ]
  },
  {
   "cell_type": "markdown",
   "id": "068524e6",
   "metadata": {},
   "source": [
    "* ### Create the database engine that will be used throughout the rest of the notebook."
   ]
  },
  {
   "cell_type": "code",
   "execution_count": null,
   "id": "afef1b2c",
   "metadata": {},
   "outputs": [],
   "source": [
    "engine = create_engine(f'{PG_PATH}?check_same_thread=False', echo=False)\n",
    "\n",
    "SessionLocal = sessionmaker(bind=engine, autoflush=False, autocommit=False)"
   ]
  }
 ],
 "metadata": {
  "language_info": {
   "name": "python"
  }
 },
 "nbformat": 4,
 "nbformat_minor": 5
}
