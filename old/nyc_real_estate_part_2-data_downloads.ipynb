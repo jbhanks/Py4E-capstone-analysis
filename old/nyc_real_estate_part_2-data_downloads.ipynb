{
 "cells": [
  {
   "cell_type": "code",
   "execution_count": 1,
   "metadata": {},
   "outputs": [],
   "source": [
    "# Import standard libraries\n",
    "import os\n",
    "import time\n",
    "from dataclasses import dataclass, field\n",
    "from typing import List\n",
    "import re\n",
    "import requests\n",
    "from sqlalchemy import Integer, Float, String, Date, LargeBinary, Boolean\n",
    "import dill\n",
    "\n",
    "from helpers import bigdownload, jqfilter"
   ]
  },
  {
   "cell_type": "code",
   "execution_count": 2,
   "metadata": {},
   "outputs": [],
   "source": [
    "\n",
    "# Load the environment\n",
    "with open(\"environment_data/environment.pkl\", \"rb\") as f:\n",
    "    env = dill.load(f)\n",
    "\n",
    "# Restore the environment\n",
    "globals().update(env)"
   ]
  },
  {
   "cell_type": "code",
   "execution_count": null,
   "metadata": {},
   "outputs": [],
   "source": [
    "for name, dataset in datasets.items():\n",
    "    print(dataset.short_name)\n",
    "    print(f'{dataset.short_name}')"
   ]
  },
  {
   "cell_type": "code",
   "execution_count": null,
   "metadata": {},
   "outputs": [],
   "source": [
    "for name, dataset in datasets.items():\n",
    "    print(dataset.metadata_url)\n",
    "    print(dataset.data_dict_url)\n"
   ]
  },
  {
   "cell_type": "code",
   "execution_count": null,
   "metadata": {},
   "outputs": [],
   "source": [
    "for name, dataset in datasets.items():\n",
    "    print(name)\n",
    "    print(dataset.data_url)\n",
    "    dataset.short_name\n",
    "    bigdownload(url=dataset.data_url, download_path=f'{PROJECT_DATA}/downloads', outfile_name=f'{dataset.short_name}.{dataset.format}', chunk_size=8192)"
   ]
  },
  {
   "cell_type": "markdown",
   "metadata": {},
   "source": [
    "* You must have jq installed on your system for the next part to work."
   ]
  },
  {
   "cell_type": "code",
   "execution_count": null,
   "metadata": {},
   "outputs": [],
   "source": [
    "for name, dataset in datasets.items():\n",
    "    print(name)\n",
    "    jqfilter(\n",
    "        infile=f\"{PROJECT_DATA}/downloads/{name}.json\",\n",
    "        outfile=f\"{PROJECT_DATA}/intermediate_files/{name}_rows.json\",\n",
    "        jq_filter=\".data\",\n",
    "    )"
   ]
  },
  {
   "cell_type": "code",
   "execution_count": null,
   "metadata": {},
   "outputs": [],
   "source": [
    "print(PROJECT_DATA)\n",
    "name = 'tax_liens'\n",
    "jqfilter(\n",
    "    infile=f\"{PROJECT_DATA}/downloads/{name}.json\",\n",
    "    outfile=f\"{PROJECT_DATA}/intermediate_files/{name}_rows.json\",\n",
    "    jq_filter=\".data\",\n",
    ")"
   ]
  }
 ],
 "metadata": {
  "kernelspec": {
   "display_name": "gpd_testing",
   "language": "python",
   "name": "python3"
  },
  "language_info": {
   "codemirror_mode": {
    "name": "ipython",
    "version": 3
   },
   "file_extension": ".py",
   "mimetype": "text/x-python",
   "name": "python",
   "nbconvert_exporter": "python",
   "pygments_lexer": "ipython3",
   "version": "3.13.1"
  }
 },
 "nbformat": 4,
 "nbformat_minor": 2
}
